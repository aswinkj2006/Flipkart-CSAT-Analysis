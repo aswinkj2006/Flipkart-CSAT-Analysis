{
  "nbformat": 4,
  "nbformat_minor": 0,
  "metadata": {
    "colab": {
      "provenance": [],
      "collapsed_sections": [
        "FJNUwmbgGyua",
        "w6K7xa23Elo4",
        "yQaldy8SH6Dl",
        "mDgbUHAGgjLW",
        "HhfV-JJviCcP",
        "Y3lxredqlCYt",
        "3RnN4peoiCZX",
        "35m5QtbWiB9F",
        "nA9Y7ga8ng1Z",
        "dauF4eBmngu3",
        "MSa1f5Uengrz",
        "GF8Ens_Soomf",
        "0wOQAZs5pc--",
        "K5QZ13OEpz2H",
        "lQ7QKXXCp7Bj",
        "448CDAPjqfQr",
        "KSlN3yHqYklG",
        "EM7whBJCYoAo",
        "4Of9eVA-YrdM",
        "bamQiAODYuh1",
        "OH-pJp9IphqM",
        "PIIx-8_IphqN",
        "BZR9WyysphqO",
        "YJ55k-q6phqO",
        "U2RJ9gkRphqQ",
        "x-EpHcCOp1ci",
        "n3dbpmDWp1ck",
        "Ag9LCva-p1cl",
        "NC_X3p0fY2L0",
        "q29F0dvdveiT",
        "XYw2DmkGIZo5",
        "g-ATYxFrGrvw",
        "Yfr_Vlr8HBkt",
        "8yEUt7NnHlrM",
        "4_0_7-oCpUZd",
        "3yB-zSqbpUZe",
        "bn_IUdTipZyH",
        "yLjJCtPM0KBk",
        "Iwf50b-R2tYG",
        "GMQiZwjn3iu7",
        "WVIkgGqN3qsr",
        "XkPnILGE3zoT",
        "Hlsf0x5436Go",
        "mT9DMSJo4nBL",
        "c49ITxTc407N",
        "OeJFEK0N496M",
        "9ExmJH0g5HBk",
        "cJNqERVU536h",
        "k5UmGsbsOxih",
        "T0VqWOYE6DLQ",
        "qBMux9mC6MCf",
        "1UUpS68QDMuG",
        "T5CmagL3EC8N",
        "VfCC591jGiD4",
        "OB4l2ZhMeS1U",
        "ArJBuiUVfxKd",
        "4qY1EAkEfxKe",
        "dJ2tPlVmpsJ0",
        "JWYfwnehpsJ1",
        "Fze-IPXLpx6K",
        "-Kee-DAl2viO",
        "EyNgTHvd2WFk"
      ]
    },
    "kernelspec": {
      "name": "python3",
      "display_name": "Python 3"
    },
    "language_info": {
      "name": "python"
    }
  },
  "cells": [
    {
      "cell_type": "markdown",
      "source": [
        "# **Project Name**    - **Flipkart CSAT Analysis**\n",
        "\n",
        "\n"
      ],
      "metadata": {
        "id": "vncDsAP0Gaoa"
      }
    },
    {
      "cell_type": "markdown",
      "source": [
        "##### **Project Type**    - AIML\n",
        "##### **Contribution**    - Individual\n",
        "##### **Team Member 1 - Aswin K J**"
      ],
      "metadata": {
        "id": "beRrZCGUAJYm"
      }
    },
    {
      "cell_type": "markdown",
      "source": [
        "# **Project Summary**"
      ],
      "metadata": {
        "id": "FJNUwmbgGyua"
      }
    },
    {
      "cell_type": "markdown",
      "source": [
        "### The customer service data was thoroughly analyzed using Python, leveraging libraries like Matplotlib and Seaborn. The focus was on key aspects such as Agents, Managers, Supervisors, Tenure Buckets, Shifts, and Response Times.\n",
        "\n",
        "## Key Findings:\n",
        "\n",
        "* **Overall CSAT Distribution:** The majority of CSAT scores are at the highest level (5), but there’s also a notable number of 1-star ratings, showing a polarization in customer sentiment. Scores of 4, 3, and 2 follow a mixed trend, indicating a wide range of customer experiences.\n",
        "\n",
        "* **Response Time:** A clear pattern shows that quicker responses tend to receive better CSAT scores. As response time increases, satisfaction generally decreases, emphasizing the need to respond faster to enhance customer experience.\n",
        "\n",
        "* **Channel of Communication:** Email-based support consistently receives lower average CSAT scores compared to Outcall and Inbound channels. This highlights the need to improve email support processes or train agents better in handling email communications.\n",
        "\n",
        "* **Agent Performance:** There’s a strong difference between high and low-performing agents in terms of CSAT. Identifying and supporting low performers with the right training is crucial to boost overall satisfaction levels.\n",
        "\n",
        "* **Manager Performance:** Most managers maintain decent CSAT scores, but a few fall short. Understanding the practices of lower-scoring managers could uncover gaps and offer opportunities for leadership improvement.\n",
        "\n",
        "* **Agent Tenure Buckets:** \"On Job Training\" agents have the highest 1-star score ratio and the lowest 5-star ratio. Interestingly, agents with a \"61-90\" day tenure perform best, showing the lowest 1-star and highest 5-star ratios. Agents with over 90 days of experience surprisingly show a slight uptick in 1-star ratings, pointing to the need for ongoing support and supervision, even for seasoned agents.\n",
        "\n",
        "* **Shifts:** The Morning and Evening shifts handle the most volume and also show high counts of 1-star CSATs. Strategically placing top-performing agents during these shifts could significantly reduce negative feedback and improve overall scores.\n",
        "\n",
        "* **Handling Time:** Quick interactions sometimes lead to low CSAT, likely due to incomplete resolutions. However, longer durations don’t always guarantee satisfaction either. This shows that resolution quality matters more than speed. Both new and experienced agents were found contributing to low CSATs in short interactions, suggesting the need to focus on problem resolution skills.\n",
        "\n",
        "* **Supervisor Analysis (Oliver Nguyen Example):** A closer look at agents under Oliver Nguyen, a supervisor with below-average CSAT, revealed that while some agents performed well, others dragged down the team’s overall performance. This underlines the value of targeted agent training and potentially some supervisory coaching to elevate team outcomes.\n",
        "\n",
        "* **Additional Research:** Deeper investigation into supervisors and agents within the >90-day Tenure Bucket pointed out exactly which individuals need support the most. Prioritizing their training and mentorship could have a strong positive impact on CSAT trends.\n",
        "\n",
        "## Conclusion:\n",
        "\n",
        "Improving CSAT at Flipkart demands a well-rounded approach. Speeding up response times, enhancing the email channel, giving personalized support to underperforming agents, shifting top talent to high-volume shifts, and focusing on the quality of resolutions are all essential steps. Continued supervision and tailored training for both new and experienced agents will be key to driving long-term improvement in customer satisfaction.\n"
      ],
      "metadata": {
        "id": "F6v_1wHtG2nS"
      }
    },
    {
      "cell_type": "markdown",
      "source": [
        "# **GitHub Link**"
      ],
      "metadata": {
        "id": "w6K7xa23Elo4"
      }
    },
    {
      "cell_type": "markdown",
      "source": [
        "https://github.com/aswinkj2006/Flipkart-CSAT-Analysis"
      ],
      "metadata": {
        "id": "h1o69JH3Eqqn"
      }
    },
    {
      "cell_type": "markdown",
      "source": [
        "# **Problem Statement**\n"
      ],
      "metadata": {
        "id": "yQaldy8SH6Dl"
      }
    },
    {
      "cell_type": "markdown",
      "source": [
        "The objective of this project is to analyze customer support interaction data from Flipkart in order to identify key factors influencing Customer Satisfaction (CSAT) scores. The goal is to uncover actionable insights related to agent performance, response and handling times, tenure, shift timings, support channels, and supervisory impact. By understanding the patterns and drivers behind low and high CSAT ratings, this analysis aims to recommend data-driven strategies to improve overall service quality, optimize support workflows, and enhance customer experience across the platform.\n",
        "\n"
      ],
      "metadata": {
        "id": "DpeJGUA3kjGy"
      }
    },
    {
      "cell_type": "markdown",
      "source": [
        "# **General Guidelines** : -  "
      ],
      "metadata": {
        "id": "mDgbUHAGgjLW"
      }
    },
    {
      "cell_type": "markdown",
      "source": [
        "1.   Well-structured, formatted, and commented code is required.\n",
        "2.   Exception Handling, Production Grade Code & Deployment Ready Code will be a plus. Those students will be awarded some additional credits.\n",
        "     \n",
        "     The additional credits will have advantages over other students during Star Student selection.\n",
        "       \n",
        "             [ Note: - Deployment Ready Code is defined as, the whole .ipynb notebook should be executable in one go\n",
        "                       without a single error logged. ]\n",
        "\n",
        "3.   Each and every logic should have proper comments.\n",
        "4. You may add as many number of charts you want. Make Sure for each and every chart the following format should be answered.\n",
        "        \n",
        "\n",
        "```\n",
        "# Chart visualization code\n",
        "```\n",
        "            \n",
        "\n",
        "*   Why did you pick the specific chart?\n",
        "*   What is/are the insight(s) found from the chart?\n",
        "* Will the gained insights help creating a positive business impact?\n",
        "Are there any insights that lead to negative growth? Justify with specific reason.\n",
        "\n",
        "5. You have to create at least 15 logical & meaningful charts having important insights.\n",
        "\n",
        "\n",
        "[ Hints : - Do the Vizualization in  a structured way while following \"UBM\" Rule.\n",
        "\n",
        "U - Univariate Analysis,\n",
        "\n",
        "B - Bivariate Analysis (Numerical - Categorical, Numerical - Numerical, Categorical - Categorical)\n",
        "\n",
        "M - Multivariate Analysis\n",
        " ]\n",
        "\n",
        "\n",
        "\n",
        "\n",
        "\n",
        "6. You may add more ml algorithms for model creation. Make sure for each and every algorithm, the following format should be answered.\n",
        "\n",
        "\n",
        "*   Explain the ML Model used and it's performance using Evaluation metric Score Chart.\n",
        "\n",
        "\n",
        "*   Cross- Validation & Hyperparameter Tuning\n",
        "\n",
        "*   Have you seen any improvement? Note down the improvement with updates Evaluation metric Score Chart.\n",
        "\n",
        "*   Explain each evaluation metric's indication towards business and the business impact pf the ML model used.\n",
        "\n",
        "\n",
        "\n",
        "\n",
        "\n",
        "\n",
        "\n",
        "\n",
        "\n",
        "\n",
        "\n",
        "\n",
        "\n",
        "\n",
        "\n",
        "\n",
        "\n",
        "\n"
      ],
      "metadata": {
        "id": "ZrxVaUj-hHfC"
      }
    },
    {
      "cell_type": "markdown",
      "source": [
        "# ***Let's Begin !***"
      ],
      "metadata": {
        "id": "O_i_v8NEhb9l"
      }
    },
    {
      "cell_type": "markdown",
      "source": [
        "## ***1. Know Your Data***"
      ],
      "metadata": {
        "id": "HhfV-JJviCcP"
      }
    },
    {
      "cell_type": "markdown",
      "source": [
        "### Import Libraries"
      ],
      "metadata": {
        "id": "Y3lxredqlCYt"
      }
    },
    {
      "cell_type": "code",
      "source": [
        "# Import Libraries\n",
        "import pandas as pd\n",
        "import numpy as np\n",
        "import matplotlib.pyplot as plt\n",
        "import seaborn as sns\n",
        "from datetime import datetime\n",
        "import warnings\n",
        "warnings.filterwarnings('ignore')"
      ],
      "metadata": {
        "id": "M8Vqi-pPk-HR"
      },
      "execution_count": 2,
      "outputs": []
    },
    {
      "cell_type": "markdown",
      "source": [
        "### Dataset Loading"
      ],
      "metadata": {
        "id": "3RnN4peoiCZX"
      }
    },
    {
      "cell_type": "code",
      "source": [
        "# Load Dataset\n",
        "# Make sure to import Customer_support_data.csv into the Files Section\n",
        "df = pd.read_csv(r'/content/Customer_support_data.csv')\n"
      ],
      "metadata": {
        "id": "4CkvbW_SlZ_R"
      },
      "execution_count": 3,
      "outputs": []
    },
    {
      "cell_type": "markdown",
      "source": [
        "### Dataset First View"
      ],
      "metadata": {
        "id": "x71ZqKXriCWQ"
      }
    },
    {
      "cell_type": "code",
      "source": [
        "# Dataset First Look\n",
        "df.head()"
      ],
      "metadata": {
        "id": "LWNFOSvLl09H"
      },
      "execution_count": null,
      "outputs": []
    },
    {
      "cell_type": "markdown",
      "source": [
        "### Dataset Rows & Columns count"
      ],
      "metadata": {
        "id": "7hBIi_osiCS2"
      }
    },
    {
      "cell_type": "code",
      "source": [
        "# Dataset Rows & Columns count\n",
        "df.shape"
      ],
      "metadata": {
        "id": "Kllu7SJgmLij"
      },
      "execution_count": null,
      "outputs": []
    },
    {
      "cell_type": "markdown",
      "source": [
        "### Dataset Information"
      ],
      "metadata": {
        "id": "JlHwYmJAmNHm"
      }
    },
    {
      "cell_type": "code",
      "source": [
        "# Dataset Info\n",
        "df.info()"
      ],
      "metadata": {
        "id": "e9hRXRi6meOf"
      },
      "execution_count": null,
      "outputs": []
    },
    {
      "cell_type": "markdown",
      "source": [
        "#### Duplicate Values"
      ],
      "metadata": {
        "id": "35m5QtbWiB9F"
      }
    },
    {
      "cell_type": "code",
      "source": [
        "# Dataset Duplicate Value Count\n",
        "df.duplicated().sum()"
      ],
      "metadata": {
        "id": "1sLdpKYkmox0"
      },
      "execution_count": null,
      "outputs": []
    },
    {
      "cell_type": "markdown",
      "source": [
        "#### Missing Values/Null Values"
      ],
      "metadata": {
        "id": "PoPl-ycgm1ru"
      }
    },
    {
      "cell_type": "code",
      "source": [
        "# Missing Values/Null Values Count\n",
        "df.isnull().sum()"
      ],
      "metadata": {
        "id": "GgHWkxvamxVg"
      },
      "execution_count": null,
      "outputs": []
    },
    {
      "cell_type": "code",
      "source": [
        "# Visualizing the missing values\n",
        "sns.heatmap(df.isnull(), cbar=False)"
      ],
      "metadata": {
        "id": "3q5wnI3om9sJ"
      },
      "execution_count": null,
      "outputs": []
    },
    {
      "cell_type": "markdown",
      "source": [
        "### What did you know about your dataset?"
      ],
      "metadata": {
        "id": "H0kj-8xxnORC"
      }
    },
    {
      "cell_type": "markdown",
      "source": [
        "The dataset consists of customer service interaction records from Flipkart, each representing a ticket raised by a customer. It contains 85907 entries and includes both quantitative and qualitative data relevant to customer satisfaction.\n",
        "\n",
        "Key things I observed:\n",
        "\n",
        "* **Target Variable:** The main variable of interest is the **CSAT Score**, which ranges from **1 (very dissatisfied)** to **5 (very satisfied)**.\n",
        "\n",
        "* **Time-Based Fields:** It has timestamps like `Issue_reported_at` and `Issue_responded`, which can be used to calculate **response time**, and a `connected_handling_time` field indicating how long agents handled the ticket.\n",
        "\n",
        "* **Agent Information:** The dataset contains details about agents such as **Agent Name**, **Supervisor**, **Manager**, **Shift**, and **Tenure Bucket**, which help evaluate performance at different hierarchy levels.\n",
        "\n",
        "* **Customer and Channel Info:** It includes the **channel of communication** (Email, Inbound, Outcall), **city**, and **product category**, giving more dimensions to analyze satisfaction patterns.\n",
        "\n",
        "* **Imbalanced CSAT Distribution:** CSAT scores are **heavily skewed toward 5**, but there is still a significant volume of ratings at the lowest score (1), indicating service inconsistency.\n",
        "\n",
        "* **Textual Feedback:** There's a `Customer Remarks` column that contains free-text responses which doesn't seem to be helpful as its based on a dummy dataset which was for 'Shopzilla', hence it was avoided\n",
        "\n",
        "In summary, the dataset is well-suited for exploratory analysis, pattern recognition, and performance benchmarking across service channels, agents, and time-related metrics to uncover what drives customer satisfaction at Flipkart.\n"
      ],
      "metadata": {
        "id": "gfoNAAC-nUe_"
      }
    },
    {
      "cell_type": "markdown",
      "source": [
        "## ***2. Understanding Your Variables***"
      ],
      "metadata": {
        "id": "nA9Y7ga8ng1Z"
      }
    },
    {
      "cell_type": "code",
      "source": [
        "# Dataset Columns\n",
        "df.columns"
      ],
      "metadata": {
        "id": "j7xfkqrt5Ag5"
      },
      "execution_count": null,
      "outputs": []
    },
    {
      "cell_type": "code",
      "source": [
        "# Dataset Describe\n",
        "df.describe()"
      ],
      "metadata": {
        "id": "DnOaZdaE5Q5t"
      },
      "execution_count": null,
      "outputs": []
    },
    {
      "cell_type": "markdown",
      "source": [
        "### Variables Description"
      ],
      "metadata": {
        "id": "PBTbrJXOngz2"
      }
    },
    {
      "cell_type": "markdown",
      "source": [
        "| **Column Name**           | **Description**                                                              |\n",
        "| ------------------------- | ---------------------------------------------------------------------------- |\n",
        "| `Unique id`               | A unique identifier for each support interaction/ticket                      |\n",
        "| `channel_name`            | Channel through which the issue was reported (e.g., Email, Inbound, Outcall) |\n",
        "| `category`                | Broad category of the issue (e.g., Returns, Order Related)                   |\n",
        "| `Sub-category`            | More specific description of the issue                                       |\n",
        "| `Customer Remarks`        | Free-text feedback left by the customer after the interaction                |\n",
        "| `Order_id`                | ID of the related order, if applicable                                       |\n",
        "| `order_date_time`         | Timestamp of when the order was placed                                       |\n",
        "| `Issue_reported at`       | Timestamp of when the customer raised the issue                              |\n",
        "| `issue_responded`         | Timestamp of when the issue was first responded to by an agent               |\n",
        "| `Survey_response_Date`    | Date when the customer gave the CSAT feedback                                |\n",
        "| `Customer_City`           | City from which the customer reached out                                     |\n",
        "| `Product_category`        | Type of product involved in the issue                                        |\n",
        "| `Item_price`              | Price of the product related to the issue                                    |\n",
        "| `connected_handling_time` | Time (in minutes) that the agent spent handling the ticket                   |\n",
        "| `Agent_name`              | Name of the support agent who handled the case                               |\n",
        "| `Supervisor`              | Supervisor assigned to the agent                                             |\n",
        "| `Manager`                 | Manager overseeing the agent’s team                                          |\n",
        "| `Tenure Bucket`           | Agent experience range in days (e.g., 0-30, 61-90, >90)                      |\n",
        "| `Agent Shift`             | Shift during which the agent handled the ticket (Morning, Evening, Night)    |\n",
        "| `CSAT Score`              | Customer Satisfaction rating (1 to 5)                                        |\n"
      ],
      "metadata": {
        "id": "aJV4KIxSnxay"
      }
    },
    {
      "cell_type": "markdown",
      "source": [
        "### Check Unique Values for each variable."
      ],
      "metadata": {
        "id": "u3PMJOP6ngxN"
      }
    },
    {
      "cell_type": "code",
      "source": [
        "# Check Unique Values for each variable.\n",
        "df.nunique().sort_values(ascending=False)"
      ],
      "metadata": {
        "id": "zms12Yq5n-jE"
      },
      "execution_count": null,
      "outputs": []
    },
    {
      "cell_type": "markdown",
      "source": [
        "## 3. ***Data Wrangling***"
      ],
      "metadata": {
        "id": "dauF4eBmngu3"
      }
    },
    {
      "cell_type": "markdown",
      "source": [
        "### Data Wrangling Code"
      ],
      "metadata": {
        "id": "bKJF3rekwFvQ"
      }
    },
    {
      "cell_type": "code",
      "source": [
        "# Write your code to make your dataset analysis ready.\n",
        "\n",
        "#change all date to datetime type\n",
        "\n",
        "df['issue_reported_at'] = pd.to_datetime(df['Issue_reported at'], errors='coerce')\n",
        "df['issue_responded'] = pd.to_datetime(df['issue_responded'], errors='coerce')\n",
        "df['response_time_mins'] = (df['issue_responded'] - df['issue_reported_at']).dt.total_seconds() / 60\n",
        "df = df[df['response_time_mins'] >= 0]\n",
        "df = df[df['response_time_mins'] < 10000]\n",
        "\n",
        "df_filtered = df[['CSAT Score', 'channel_name', 'category', 'Sub-category',\n",
        "                  'response_time_mins','connected_handling_time', 'Agent_name', 'Supervisor', 'Manager',\n",
        "                  'Tenure Bucket', 'Agent Shift', 'Item_price']]"
      ],
      "metadata": {
        "id": "wk-9a2fpoLcV"
      },
      "execution_count": 5,
      "outputs": []
    },
    {
      "cell_type": "markdown",
      "source": [
        "### What all manipulations have you done and insights you found?"
      ],
      "metadata": {
        "id": "MSa1f5Uengrz"
      }
    },
    {
      "cell_type": "markdown",
      "source": [
        "#### **Data Manipulations Performed:**\n",
        "\n",
        "1. **Datetime Conversion:**\n",
        "\n",
        "   * Converted the `Issue_reported at` and `issue_responded` columns to proper `datetime` format using `pd.to_datetime()`.\n",
        "   * This enabled accurate time-based analysis.\n",
        "\n",
        "2. **Response Time Calculation:**\n",
        "\n",
        "   * Created a new column `response_time_mins` by calculating the time difference between when the issue was reported and when it was responded to.\n",
        "   * Converted the time difference into minutes.\n",
        "\n",
        "3. **Filtered Invalid/Extreme Data:**\n",
        "\n",
        "   * Removed rows where `response_time_mins` was negative (indicating data entry errors).\n",
        "   * Removed outliers where `response_time_mins` was greater than 10,000 minutes (\\~7 days), which skewed the graphs.\n",
        "\n",
        "4. **Selected Relevant Columns:**\n",
        "\n",
        "   * Created a filtered dataset (`df_filtered`) containing only the columns necessary for CSAT analysis, such as:\n",
        "\n",
        "     * `CSAT Score`, `response_time_mins`, `connected_handling_time`, `Agent_name`, `Tenure Bucket`, etc.\n",
        "\n",
        "---\n",
        "\n",
        "#### **Insights Found:**\n",
        "\n",
        "1. **Required Datasets:**\n",
        "\n",
        "  * The required datas are CSAT, Response Time, Handling Time,Agent, Manager, Supervisor, Tenure Bucket, Agent Shift and few others\n",
        "\n",
        "2. **Response Time:**\n",
        "\n",
        "  * The Difference Between Reported and Responded Time will give the Response Time\n",
        "  \n",
        "  * Response Time shall play a crucial time in finding out CSAT scores.\n",
        "\n",
        "  * It was filtered since the data had both negative and greater than 10,000 minute time frames."
      ],
      "metadata": {
        "id": "LbyXE7I1olp8"
      }
    },
    {
      "cell_type": "markdown",
      "source": [
        "## ***4. Data Vizualization, Storytelling & Experimenting with charts : Understand the relationships between variables***"
      ],
      "metadata": {
        "id": "GF8Ens_Soomf"
      }
    },
    {
      "cell_type": "markdown",
      "source": [
        "#### **1. CSAT Score Plot**"
      ],
      "metadata": {
        "id": "0wOQAZs5pc--"
      }
    },
    {
      "cell_type": "code",
      "source": [
        "sns.countplot(x='CSAT Score', data=df)\n",
        "plt.title(\"Customer Satisfaction Score Distribution\")\n",
        "plt.xlabel(\"CSAT Score\")\n",
        "plt.ylabel(\"Count\")\n",
        "plt.show()"
      ],
      "metadata": {
        "id": "4iOpwF_2pSeg",
        "colab": {
          "base_uri": "https://localhost:8080/",
          "height": 472
        },
        "outputId": "76887e6c-d8fe-413d-a1b7-91f46728cc4d"
      },
      "execution_count": null,
      "outputs": [
        {
          "output_type": "display_data",
          "data": {
            "text/plain": [
              "<Figure size 640x480 with 1 Axes>"
            ],
            "image/png": "[encoded data removed]"
          },
          "metadata": {}
        }
      ]
    },
    {
      "cell_type": "markdown",
      "source": [
        "##### 1. Why did you pick the specific chart?"
      ],
      "metadata": {
        "id": "K5QZ13OEpz2H"
      }
    },
    {
      "cell_type": "markdown",
      "source": [
        "I picked the countplot because it provides a simple and clear visual of how CSAT scores are distributed across all customer support interactions. It allows us to quickly identify whether the ratings are skewed toward satisfaction or dissatisfaction, which is essential for measuring overall customer sentiment.\n",
        "\n"
      ],
      "metadata": {
        "id": "XESiWehPqBRc"
      }
    },
    {
      "cell_type": "markdown",
      "source": [
        "##### 2. What is/are the insight(s) found from the chart?"
      ],
      "metadata": {
        "id": "lQ7QKXXCp7Bj"
      }
    },
    {
      "cell_type": "markdown",
      "source": [
        "The chart showed that most customers gave a CSAT score of 5, indicating high satisfaction. However, there was also a notable number of 1-star ratings, suggesting that while many interactions are successful, there are recurring issues leading to very poor experiences for some customers which is a sign of polarized satisfaction."
      ],
      "metadata": {
        "id": "C_j1G7yiqdRP"
      }
    },
    {
      "cell_type": "markdown",
      "source": [
        "##### 3. Will the gained insights help creating a positive business impact?\n",
        "Are there any insights that lead to negative growth? Justify with specific reason."
      ],
      "metadata": {
        "id": "448CDAPjqfQr"
      }
    },
    {
      "cell_type": "markdown",
      "source": [
        "Yes, the insights are impactful. Knowing that the majority of customers are highly satisfied confirms that the support team is generally effective. However, the presence of many 1-star ratings points to inconsistencies. If left unchecked, these could damage brand loyalty and lead to churn a negative growth factor. Identifying the root causes behind those low scores (e.g., response time, handling quality, agent behavior) and fixing them can directly improve customer retention and trust."
      ],
      "metadata": {
        "id": "3cspy4FjqxJW"
      }
    },
    {
      "cell_type": "markdown",
      "source": [
        "#### **2. Impact of CSAT w.r.t Response Time (Box Plot)**"
      ],
      "metadata": {
        "id": "KSlN3yHqYklG"
      }
    },
    {
      "cell_type": "code",
      "source": [
        "sns.boxplot(x='CSAT Score', y='response_time_mins', data=df)\n",
        "plt.title(\"CSAT Score vs. Response Time\")\n",
        "plt.xlabel(\"CSAT Score\")\n",
        "plt.ylabel(\"Response Time (Minutes)\")\n",
        "plt.show()"
      ],
      "metadata": {
        "id": "R4YgtaqtYklH",
        "colab": {
          "base_uri": "https://localhost:8080/",
          "height": 472
        },
        "outputId": "b109969e-e928-4023-8b02-d222390a8443"
      },
      "execution_count": null,
      "outputs": [
        {
          "output_type": "display_data",
          "data": {
            "text/plain": [
              "<Figure size 640x480 with 1 Axes>"
            ],
            "image/png": "[encoded data removed]"
          },
          "metadata": {}
        }
      ]
    },
    {
      "cell_type": "markdown",
      "source": [
        "##### 1. Why did you pick the specific chart?"
      ],
      "metadata": {
        "id": "t6dVpIINYklI"
      }
    },
    {
      "cell_type": "markdown",
      "source": [
        "I chose this boxplot because it effectively shows how response time (in minutes) varies across different CSAT scores. It provides a compact summary of the median, spread, and outliers for each score level. This helps us clearly observe whether customers who waited longer gave lower ratings which is essential for evaluating the responsiveness of the support team."
      ],
      "metadata": {
        "id": "5aaW0BYyYklI"
      }
    },
    {
      "cell_type": "markdown",
      "source": [
        "##### 2. What is/are the insight(s) found from the chart?"
      ],
      "metadata": {
        "id": "ijmpgYnKYklI"
      }
    },
    {
      "cell_type": "markdown",
      "source": [
        "The chart reveals that:\n",
        "\n",
        "* CSAT 1 ratings have a noticeably higher spread in response times, with many outliers stretching into the 4000–6000 minute range.\n",
        "\n",
        "* On the other hand, CSAT 5 scores tend to have lower median response times, with fewer extreme delays.\n",
        "\n",
        "* This suggests a negative correlation between response time and customer satisfaction. As response time increases, CSAT scores tend to decrease."
      ],
      "metadata": {
        "id": "PSx9atu2YklI"
      }
    },
    {
      "cell_type": "markdown",
      "source": [
        "##### 3. Will the gained insights help creating a positive business impact?\n",
        "Are there any insights that lead to negative growth? Justify with specific reason.`"
      ],
      "metadata": {
        "id": "-JiQyfWJYklI"
      }
    },
    {
      "cell_type": "markdown",
      "source": [
        "Yes, this insight is highly actionable. By reducing response times especially for delayed tickets, the support team can potentially reduce the number of low (1-star) CSAT ratings, improving customer experience and loyalty.\n",
        "\n",
        "Ignoring this insight could lead to negative growth, as delayed responses may drive customers toward frustration and churn. Consistent 1-star ratings could damage brand reputation, increase returns/cancellations, and weaken repeat purchase behavior."
      ],
      "metadata": {
        "id": "BcBbebzrYklV"
      }
    },
    {
      "cell_type": "markdown",
      "source": [
        "#### **3. Impact of CSAT w.r.t Response Time (Regression Plot)**"
      ],
      "metadata": {
        "id": "EM7whBJCYoAo"
      }
    },
    {
      "cell_type": "code",
      "source": [
        "plt.figure(figsize=(10, 6))\n",
        "sns.regplot(data=df, x='response_time_mins', y='CSAT Score',\n",
        "            scatter_kws={'alpha': 0.3}, line_kws={'color': 'red'})\n",
        "plt.title('Impact of Response Time on CSAT Score')\n",
        "plt.xlabel('Response Time (Minutes)')\n",
        "plt.ylabel('CSAT Score')\n",
        "plt.grid(True, linestyle='--', alpha=0.5)\n",
        "plt.tight_layout()\n",
        "plt.show()"
      ],
      "metadata": {
        "id": "t6GMdE67YoAp",
        "colab": {
          "base_uri": "https://localhost:8080/",
          "height": 607
        },
        "outputId": "2e26dc18-663e-4f8c-a9d0-664ae2359860"
      },
      "execution_count": null,
      "outputs": [
        {
          "output_type": "display_data",
          "data": {
            "text/plain": [
              "<Figure size 1000x600 with 1 Axes>"
            ],
            "image/png": "[encoded data removed]"
          },
          "metadata": {}
        }
      ]
    },
    {
      "cell_type": "markdown",
      "source": [
        "##### 1. Why did you pick the specific chart?"
      ],
      "metadata": {
        "id": "fge-S5ZAYoAp"
      }
    },
    {
      "cell_type": "markdown",
      "source": [
        "I chose a regression plot because it helps visualize the overall trend and correlation between response time and CSAT score. Unlike a boxplot or scatter plot alone, the regression line gives a clear indication of whether CSAT increases or decreases as response time changes. This makes it easier to interpret directional relationships between variables."
      ],
      "metadata": {
        "id": "5dBItgRVYoAp"
      }
    },
    {
      "cell_type": "markdown",
      "source": [
        "##### 2. What is/are the insight(s) found from the chart?"
      ],
      "metadata": {
        "id": "85gYPyotYoAp"
      }
    },
    {
      "cell_type": "markdown",
      "source": [
        "The chart shows a negative slope in the regression line, indicating that as response time increases, CSAT score tends to decrease. Although there is some variation and noise in the data, the overall trend suggests that customers are generally less satisfied when they have to wait longer for a response. This validates the assumption that fast responses contribute to a better support experience."
      ],
      "metadata": {
        "id": "4jstXR6OYoAp"
      }
    },
    {
      "cell_type": "markdown",
      "source": [
        "##### 3. Will the gained insights help creating a positive business impact?\n",
        "Are there any insights that lead to negative growth? Justify with specific reason."
      ],
      "metadata": {
        "id": "RoGjAbkUYoAp"
      }
    },
    {
      "cell_type": "markdown",
      "source": [
        "Yes, the insight can create a strong positive business impact. By optimizing support workflows to reduce response times, Flipkart can potentially improve CSAT scores, leading to happier customers, stronger loyalty, and better brand perception.\n",
        "\n",
        "On the flip side, ignoring this insight can lead to negative growth as customers facing long wait times may leave low ratings, escalate complaints, or even stop using the platform. Addressing slow response tickets can prevent such outcomes and drive meaningful improvements."
      ],
      "metadata": {
        "id": "zfJ8IqMcYoAp"
      }
    },
    {
      "cell_type": "markdown",
      "source": [
        "#### **4. Impact of CSAT w.r.t Channel**"
      ],
      "metadata": {
        "id": "4Of9eVA-YrdM"
      }
    },
    {
      "cell_type": "code",
      "source": [
        "sns.barplot(x='channel_name', y='CSAT Score', data=df)\n",
        "plt.title(\"Average CSAT Score by Channel\")\n",
        "plt.xlabel(\"Channel\")\n",
        "plt.ylabel(\"Average CSAT Score\")\n",
        "plt.show()"
      ],
      "metadata": {
        "id": "irlUoxc8YrdO",
        "colab": {
          "base_uri": "https://localhost:8080/",
          "height": 472
        },
        "outputId": "a04e154d-f881-4c31-90ca-c1f24f74f7c5"
      },
      "execution_count": null,
      "outputs": [
        {
          "output_type": "display_data",
          "data": {
            "text/plain": [
              "<Figure size 640x480 with 1 Axes>"
            ],
            "image/png": "[encoded data removed]"
          },
          "metadata": {}
        }
      ]
    },
    {
      "cell_type": "markdown",
      "source": [
        "##### 1. Why did you pick the specific chart?"
      ],
      "metadata": {
        "id": "iky9q4vBYrdO"
      }
    },
    {
      "cell_type": "markdown",
      "source": [
        "I chose a barplot because it provides a clear, simple comparison of the average CSAT scores across different customer support channels. It helps quickly identify which channels are performing well and which ones are falling behind in terms of customer satisfaction. A barplot is ideal here because the number of categories is small, and we’re comparing mean values."
      ],
      "metadata": {
        "id": "aJRCwT6DYrdO"
      }
    },
    {
      "cell_type": "markdown",
      "source": [
        "##### 2. What is/are the insight(s) found from the chart?"
      ],
      "metadata": {
        "id": "F6T5p64dYrdO"
      }
    },
    {
      "cell_type": "markdown",
      "source": [
        "The chart revealed that:\n",
        "\n",
        "* Outcall and Inbound channels have higher average CSAT scores.\n",
        "\n",
        "* Email support has a noticeably lower average CSAT, indicating that customers are less satisfied when using this channel.\n",
        "\n",
        "* This suggests that real-time or voice-based communication leads to better customer experiences compared to asynchronous ones like email."
      ],
      "metadata": {
        "id": "Xx8WAJvtYrdO"
      }
    },
    {
      "cell_type": "markdown",
      "source": [
        "##### 3. Will the gained insights help creating a positive business impact?\n",
        "Are there any insights that lead to negative growth? Justify with specific reason."
      ],
      "metadata": {
        "id": "y-Ehk30pYrdP"
      }
    },
    {
      "cell_type": "markdown",
      "source": [
        "Yes, this insight is very useful for improving customer experience. If Flipkart can optimize or upgrade its email support process through better templates, faster replies, or more personalized service. It can reduce low CSAT ratings and align email performance with other channels.\n",
        "\n",
        "On the other hand, if the email channel continues to underperform, it could become a pain point for customers, especially those who rely on it as their primary mode of support. This may lead to negative reviews, escalations, or customer churn contributing to negative growth."
      ],
      "metadata": {
        "id": "jLNxxz7MYrdP"
      }
    },
    {
      "cell_type": "markdown",
      "source": [
        "#### **5. Impact of CSAT w.r.t Bottom Agents Perfomance**"
      ],
      "metadata": {
        "id": "bamQiAODYuh1"
      }
    },
    {
      "cell_type": "code",
      "source": [
        "# Group by Agent_name and calculate the mean CSAT Score\n",
        "agent_csat = df.groupby('Agent_name')['CSAT Score'].mean()\n",
        "\n",
        "# Sort in ascending order to find bottom performers and select the top 10\n",
        "bottom_agents = agent_csat.sort_values(ascending=True).head(10)\n",
        "\n",
        "# Create a horizontal bar plot for the bottom 10 agents\n",
        "plt.figure(figsize=(10, 6))\n",
        "bottom_agents.plot(kind='barh')\n",
        "plt.title('Bottom 10 Agents by Avg CSAT Score')\n",
        "plt.xlabel('Average CSAT Score')\n",
        "plt.ylabel('Agent Name')\n",
        "plt.tight_layout()\n",
        "plt.show()"
      ],
      "metadata": {
        "id": "TIJwrbroYuh3",
        "colab": {
          "base_uri": "https://localhost:8080/",
          "height": 607
        },
        "outputId": "4caf6840-464f-4454-bd76-ed3357cf7458"
      },
      "execution_count": null,
      "outputs": [
        {
          "output_type": "display_data",
          "data": {
            "text/plain": [
              "<Figure size 1000x600 with 1 Axes>"
            ],
            "image/png": "[encoded data removed]"
          },
          "metadata": {}
        }
      ]
    },
    {
      "cell_type": "markdown",
      "source": [
        "##### 1. Why did you pick the specific chart?"
      ],
      "metadata": {
        "id": "QHF8YVU7Yuh3"
      }
    },
    {
      "cell_type": "markdown",
      "source": [
        "I chose a horizontal bar chart to clearly visualize the bottom 10 agents based on their average CSAT scores. Horizontal bars make it easier to read long agent names and directly compare their performance. This chart quickly highlights underperforming agents who may need attention, support, or retraining."
      ],
      "metadata": {
        "id": "dcxuIMRPYuh3"
      }
    },
    {
      "cell_type": "markdown",
      "source": [
        "##### 2. What is/are the insight(s) found from the chart?"
      ],
      "metadata": {
        "id": "GwzvFGzlYuh3"
      }
    },
    {
      "cell_type": "markdown",
      "source": [
        "The chart reveals a clear gap in performance among the bottom agents:\n",
        "\n",
        "* These agents consistently receive lower average CSAT scores, often below 3.\n",
        "\n",
        "* This could be due to lack of experience, poor communication, or inadequate handling of customer issues.\n",
        "\n",
        "* The consistency in low scores suggests that the issue may not be one-off, but part of a recurring pattern.\n",
        "\n"
      ],
      "metadata": {
        "id": "uyqkiB8YYuh3"
      }
    },
    {
      "cell_type": "markdown",
      "source": [
        "##### 3. Will the gained insights help creating a positive business impact?\n",
        "Are there any insights that lead to negative growth? Justify with specific reason."
      ],
      "metadata": {
        "id": "qYpmQ266Yuh3"
      }
    },
    {
      "cell_type": "markdown",
      "source": [
        "Yes, these insights can be used to create a positive impact by:\n",
        "\n",
        "* Identifying agents who need targeted training or mentoring\n",
        "\n",
        "* Monitoring improvement over time to ensure quality standards are met\n",
        "\n",
        "If these insights are ignored, the underperformance may continue, leading to:\n",
        "\n",
        "* More 1-star ratings\n",
        "\n",
        "* Customer dissatisfaction\n",
        "\n",
        "* Overall decline in brand trust, all of which contribute to negative growth"
      ],
      "metadata": {
        "id": "_WtzZ_hCYuh4"
      }
    },
    {
      "cell_type": "markdown",
      "source": [
        "#### **6. Impact of CSAT w.r.t Top Agents Perfomance**"
      ],
      "metadata": {
        "id": "OH-pJp9IphqM"
      }
    },
    {
      "cell_type": "code",
      "source": [
        "# Sort in descending order to find top performers and select the top 10\n",
        "top_agents = agent_csat.sort_values(ascending=False).head(10)\n",
        "\n",
        "# Create a horizontal bar plot for the top 10 agents\n",
        "plt.figure(figsize=(10, 6))\n",
        "top_agents.plot(kind='barh')\n",
        "plt.title('Top 10 Agents by Avg CSAT Score')\n",
        "plt.xlabel('Average CSAT Score')\n",
        "plt.ylabel('Agent Name')\n",
        "plt.tight_layout()\n",
        "plt.show()"
      ],
      "metadata": {
        "id": "kuRf4wtuphqN",
        "colab": {
          "base_uri": "https://localhost:8080/",
          "height": 607
        },
        "outputId": "aec68278-ed3c-4159-84e3-c3642b43051b"
      },
      "execution_count": null,
      "outputs": [
        {
          "output_type": "display_data",
          "data": {
            "text/plain": [
              "<Figure size 1000x600 with 1 Axes>"
            ],
            "image/png": "[encoded data removed]"
          },
          "metadata": {}
        }
      ]
    },
    {
      "cell_type": "markdown",
      "source": [
        "##### 1. Why did you pick the specific chart?"
      ],
      "metadata": {
        "id": "bbFf2-_FphqN"
      }
    },
    {
      "cell_type": "markdown",
      "source": [
        "I chose a horizontal bar chart to display the top 10 agents ranked by their average CSAT scores. This format is ideal for showing performance rankings, especially when agent names are long. It clearly highlights which agents are consistently delivering high customer satisfaction, making it easy to recognize top performers.`"
      ],
      "metadata": {
        "id": "loh7H2nzphqN"
      }
    },
    {
      "cell_type": "markdown",
      "source": [
        "##### 2. What is/are the insight(s) found from the chart?"
      ],
      "metadata": {
        "id": "_ouA3fa0phqN"
      }
    },
    {
      "cell_type": "markdown",
      "source": [
        "The chart shows that these top 10 agents have maintained average CSAT scores close to 5, indicating:\n",
        "\n",
        "* High levels of customer satisfaction\n",
        "\n",
        "* Consistent service quality\n",
        "\n",
        "* Possibly better issue resolution skills or communication styles\n",
        "\n",
        "These agents serve as benchmarks for performance and can provide best practices or peer training to others."
      ],
      "metadata": {
        "id": "VECbqPI7phqN"
      }
    },
    {
      "cell_type": "markdown",
      "source": [
        "##### 3. Will the gained insights help creating a positive business impact?\n",
        "Are there any insights that lead to negative growth? Justify with specific reason."
      ],
      "metadata": {
        "id": "Seke61FWphqN"
      }
    },
    {
      "cell_type": "markdown",
      "source": [
        "Yes, this insight can help create a positive business impact by:\n",
        "\n",
        "* Recognizing and rewarding top performers, which boosts morale\n",
        "\n",
        "* Leveraging their techniques to train lower-performing agents\n",
        "\n",
        "* Encouraging a culture of excellence and consistency\n",
        "\n",
        "Ignoring top performers might lead to demotivation or attrition, which could negatively impact team performance and growth over time. So celebrating these agents also helps in retaining talent and sustaining high CSAT scores."
      ],
      "metadata": {
        "id": "DW4_bGpfphqN"
      }
    },
    {
      "cell_type": "markdown",
      "source": [
        "#### **7. Impact of CSAT w.r.t Manager Perfomance**"
      ],
      "metadata": {
        "id": "PIIx-8_IphqN"
      }
    },
    {
      "cell_type": "code",
      "source": [
        "#5. Manager Perfomance\n",
        "\n",
        "top_managers = df.groupby('Manager')['CSAT Score'].mean().sort_values(ascending=True).head(6)\n",
        "top_managers.plot(kind='barh')\n",
        "plt.title('Top Managers by Avg CSAT Score')\n",
        "plt.xlabel('Average CSAT Score')\n",
        "plt.ylabel('Manager')\n",
        "plt.show()"
      ],
      "metadata": {
        "id": "lqAIGUfyphqO",
        "colab": {
          "base_uri": "https://localhost:8080/",
          "height": 472
        },
        "outputId": "4c139817-32c2-4d0d-f8e8-ce8cc413151e"
      },
      "execution_count": null,
      "outputs": [
        {
          "output_type": "display_data",
          "data": {
            "text/plain": [
              "<Figure size 640x480 with 1 Axes>"
            ],
            "image/png": "[encoded data removed]"
          },
          "metadata": {}
        }
      ]
    },
    {
      "cell_type": "markdown",
      "source": [
        "##### 1. Why did you pick the specific chart?"
      ],
      "metadata": {
        "id": "t27r6nlMphqO"
      }
    },
    {
      "cell_type": "markdown",
      "source": [
        "I chose a horizontal bar chart because it clearly visualizes the average CSAT scores managed under each manager. Since manager names can be long and categorical, a horizontal layout makes it easier to read and compare. This format helps identify which managers consistently lead high-performing teams and which ones might need further evaluation or support."
      ],
      "metadata": {
        "id": "iv6ro40sphqO"
      }
    },
    {
      "cell_type": "markdown",
      "source": [
        "##### 2. What is/are the insight(s) found from the chart?"
      ],
      "metadata": {
        "id": "r2jJGEOYphqO"
      }
    },
    {
      "cell_type": "markdown",
      "source": [
        "The chart shows that while most managers maintain good CSAT scores, there are noticeable variations:\n",
        "\n",
        "* Some managers have near-perfect averages, indicating effective leadership, agent development, and process management.\n",
        "\n",
        "* Others fall slightly behind, which may be due to less effective team supervision, agent quality, or process breakdowns.\n",
        "\n",
        "These differences highlight how leadership quality can impact team performance and customer satisfaction."
      ],
      "metadata": {
        "id": "Po6ZPi4hphqO"
      }
    },
    {
      "cell_type": "markdown",
      "source": [
        "##### 3. Will the gained insights help creating a positive business impact?\n",
        "Are there any insights that lead to negative growth? Justify with specific reason."
      ],
      "metadata": {
        "id": "b0JNsNcRphqO"
      }
    },
    {
      "cell_type": "markdown",
      "source": [
        "Yes, these insights can drive positive impact by:\n",
        "\n",
        "* Identifying high-performing managers whose methods can be replicated across other teams\n",
        "\n",
        "* Pinpointing underperforming managers for training or process review\n",
        "\n",
        "* Supporting consistent CSAT improvement across all teams\n",
        "\n",
        "Ignoring performance gaps between managers may lead to inconsistent customer service, morale issues, and lower overall CSAT, which can contribute to negative customer experience and long-term churn"
      ],
      "metadata": {
        "id": "xvSq8iUTphqO"
      }
    },
    {
      "cell_type": "markdown",
      "source": [
        "#### **8. Impact of CSAT w.r.t Agent Tenure Bucket**"
      ],
      "metadata": {
        "id": "BZR9WyysphqO"
      }
    },
    {
      "cell_type": "code",
      "source": [
        "plt.figure(figsize=(10,6))\n",
        "sns.countplot(data=df, x='Tenure Bucket', hue='CSAT Score', palette='Set2')\n",
        "plt.title(\"CSAT Score Distribution by Agent Tenure\")\n",
        "plt.xlabel(\"Agent Tenure\")\n",
        "plt.ylabel(\"Number of Responses\")\n",
        "plt.legend(title=\"CSAT Score\")\n",
        "plt.xticks(rotation=45)\n",
        "plt.tight_layout()\n",
        "plt.show()"
      ],
      "metadata": {
        "id": "TdPTWpAVphqO",
        "colab": {
          "base_uri": "https://localhost:8080/",
          "height": 607
        },
        "outputId": "5f360f47-6b8d-4f23-b107-21a9a7e9fc94"
      },
      "execution_count": null,
      "outputs": [
        {
          "output_type": "display_data",
          "data": {
            "text/plain": [
              "<Figure size 1000x600 with 1 Axes>"
            ],
            "image/png": "[encoded data removed]"
          },
          "metadata": {}
        }
      ]
    },
    {
      "cell_type": "markdown",
      "source": [
        "Since I wanted to see the ratio of 1 star and 5 star among all tenure buckets more precisely, i developed this code too."
      ],
      "metadata": {
        "id": "vJ2-Luin9h3h"
      }
    },
    {
      "cell_type": "code",
      "source": [
        "# Filter the DataFrame to include only CSAT scores of 1 and 5\n",
        "csat_1_5_df = df[df['CSAT Score'].isin([1, 5])]\n",
        "\n",
        "# Group by 'Tenure Bucket' and 'CSAT Score' and count the occurrences\n",
        "tenure_csat_counts = csat_1_5_df.groupby(['Tenure Bucket', 'CSAT Score']).size().unstack(fill_value=0)\n",
        "\n",
        "# Calculate the total count for each tenure bucket\n",
        "tenure_counts = df['Tenure Bucket'].value_counts()\n",
        "\n",
        "# Calculate the ratio of 1 and 5 CSAT scores for each tenure bucket\n",
        "tenure_ratios = pd.DataFrame({\n",
        "    'Ratio_CSAT_1': tenure_csat_counts[1] / tenure_counts,\n",
        "    'Ratio_CSAT_5': tenure_csat_counts[5] / tenure_counts\n",
        "})\n",
        "\n",
        "# Display the ratios\n",
        "print(\"Ratio of 1-star and 5-star CSAT Scores by Agent Tenure:\")\n",
        "display(tenure_ratios)"
      ],
      "metadata": {
        "colab": {
          "base_uri": "https://localhost:8080/",
          "height": 255
        },
        "id": "W7wtRO6g9e6q",
        "outputId": "c72a9a45-17f5-4c3b-f575-f629bd521310"
      },
      "execution_count": null,
      "outputs": [
        {
          "output_type": "stream",
          "name": "stdout",
          "text": [
            "Ratio of 1-star and 5-star CSAT Scores by Agent Tenure:\n"
          ]
        },
        {
          "output_type": "display_data",
          "data": {
            "text/plain": [
              "                 Ratio_CSAT_1  Ratio_CSAT_5\n",
              "Tenure Bucket                              \n",
              "0-30                 0.119535      0.701876\n",
              "31-60                0.112882      0.719314\n",
              "61-90                0.101084      0.735565\n",
              ">90                  0.122126      0.712223\n",
              "On Job Training      0.149471      0.660513"
            ],
            "text/html": [
              "\n",
              "  <div id=\"df-60c35788-322f-48a1-bf46-5fdd19e2b45d\" class=\"colab-df-container\">\n",
              "    <div>\n",
              "<style scoped>\n",
              "    .dataframe tbody tr th:only-of-type {\n",
              "        vertical-align: middle;\n",
              "    }\n",
              "\n",
              "    .dataframe tbody tr th {\n",
              "        vertical-align: top;\n",
              "    }\n",
              "\n",
              "    .dataframe thead th {\n",
              "        text-align: right;\n",
              "    }\n",
              "</style>\n",
              "<table border=\"1\" class=\"dataframe\">\n",
              "  <thead>\n",
              "    <tr style=\"text-align: right;\">\n",
              "      <th></th>\n",
              "      <th>Ratio_CSAT_1</th>\n",
              "      <th>Ratio_CSAT_5</th>\n",
              "    </tr>\n",
              "    <tr>\n",
              "      <th>Tenure Bucket</th>\n",
              "      <th></th>\n",
              "      <th></th>\n",
              "    </tr>\n",
              "  </thead>\n",
              "  <tbody>\n",
              "    <tr>\n",
              "      <th>0-30</th>\n",
              "      <td>0.119535</td>\n",
              "      <td>0.701876</td>\n",
              "    </tr>\n",
              "    <tr>\n",
              "      <th>31-60</th>\n",
              "      <td>0.112882</td>\n",
              "      <td>0.719314</td>\n",
              "    </tr>\n",
              "    <tr>\n",
              "      <th>61-90</th>\n",
              "      <td>0.101084</td>\n",
              "      <td>0.735565</td>\n",
              "    </tr>\n",
              "    <tr>\n",
              "      <th>&gt;90</th>\n",
              "      <td>0.122126</td>\n",
              "      <td>0.712223</td>\n",
              "    </tr>\n",
              "    <tr>\n",
              "      <th>On Job Training</th>\n",
              "      <td>0.149471</td>\n",
              "      <td>0.660513</td>\n",
              "    </tr>\n",
              "  </tbody>\n",
              "</table>\n",
              "</div>\n",
              "    <div class=\"colab-df-buttons\">\n",
              "\n",
              "  <div class=\"colab-df-container\">\n",
              "    <button class=\"colab-df-convert\" onclick=\"convertToInteractive('df-60c35788-322f-48a1-bf46-5fdd19e2b45d')\"\n",
              "            title=\"Convert this dataframe to an interactive table.\"\n",
              "            style=\"display:none;\">\n",
              "\n",
              "  <svg xmlns=\"http://www.w3.org/2000/svg\" height=\"24px\" viewBox=\"0 -960 960 960\">\n",
              "    <path d=\"M120-120v-720h720v720H120Zm60-500h600v-160H180v160Zm220 220h160v-160H400v160Zm0 220h160v-160H400v160ZM180-400h160v-160H180v160Zm440 0h160v-160H620v160ZM180-180h160v-160H180v160Zm440 0h160v-160H620v160Z\"/>\n",
              "  </svg>\n",
              "    </button>\n",
              "\n",
              "  <style>\n",
              "    .colab-df-container {\n",
              "      display:flex;\n",
              "      gap: 12px;\n",
              "    }\n",
              "\n",
              "    .colab-df-convert {\n",
              "      background-color: #E8F0FE;\n",
              "      border: none;\n",
              "      border-radius: 50%;\n",
              "      cursor: pointer;\n",
              "      display: none;\n",
              "      fill: #1967D2;\n",
              "      height: 32px;\n",
              "      padding: 0 0 0 0;\n",
              "      width: 32px;\n",
              "    }\n",
              "\n",
              "    .colab-df-convert:hover {\n",
              "      background-color: #E2EBFA;\n",
              "      box-shadow: 0px 1px 2px rgba(60, 64, 67, 0.3), 0px 1px 3px 1px rgba(60, 64, 67, 0.15);\n",
              "      fill: #174EA6;\n",
              "    }\n",
              "\n",
              "    .colab-df-buttons div {\n",
              "      margin-bottom: 4px;\n",
              "    }\n",
              "\n",
              "    [theme=dark] .colab-df-convert {\n",
              "      background-color: #3B4455;\n",
              "      fill: #D2E3FC;\n",
              "    }\n",
              "\n",
              "    [theme=dark] .colab-df-convert:hover {\n",
              "      background-color: #434B5C;\n",
              "      box-shadow: 0px 1px 3px 1px rgba(0, 0, 0, 0.15);\n",
              "      filter: drop-shadow(0px 1px 2px rgba(0, 0, 0, 0.3));\n",
              "      fill: #FFFFFF;\n",
              "    }\n",
              "  </style>\n",
              "\n",
              "    <script>\n",
              "      const buttonEl =\n",
              "        document.querySelector('#df-60c35788-322f-48a1-bf46-5fdd19e2b45d button.colab-df-convert');\n",
              "      buttonEl.style.display =\n",
              "        google.colab.kernel.accessAllowed ? 'block' : 'none';\n",
              "\n",
              "      async function convertToInteractive(key) {\n",
              "        const element = document.querySelector('#df-60c35788-322f-48a1-bf46-5fdd19e2b45d');\n",
              "        const dataTable =\n",
              "          await google.colab.kernel.invokeFunction('convertToInteractive',\n",
              "                                                    [key], {});\n",
              "        if (!dataTable) return;\n",
              "\n",
              "        const docLinkHtml = 'Like what you see? Visit the ' +\n",
              "          '<a target=\"_blank\" href=https://colab.research.google.com/notebooks/data_table.ipynb>data table notebook</a>'\n",
              "          + ' to learn more about interactive tables.';\n",
              "        element.innerHTML = '';\n",
              "        dataTable['output_type'] = 'display_data';\n",
              "        await google.colab.output.renderOutput(dataTable, element);\n",
              "        const docLink = document.createElement('div');\n",
              "        docLink.innerHTML = docLinkHtml;\n",
              "        element.appendChild(docLink);\n",
              "      }\n",
              "    </script>\n",
              "  </div>\n",
              "\n",
              "\n",
              "    <div id=\"df-ecee97ce-8e24-45a5-b9e8-9cd5051509c3\">\n",
              "      <button class=\"colab-df-quickchart\" onclick=\"quickchart('df-ecee97ce-8e24-45a5-b9e8-9cd5051509c3')\"\n",
              "                title=\"Suggest charts\"\n",
              "                style=\"display:none;\">\n",
              "\n",
              "<svg xmlns=\"http://www.w3.org/2000/svg\" height=\"24px\"viewBox=\"0 0 24 24\"\n",
              "     width=\"24px\">\n",
              "    <g>\n",
              "        <path d=\"M19 3H5c-1.1 0-2 .9-2 2v14c0 1.1.9 2 2 2h14c1.1 0 2-.9 2-2V5c0-1.1-.9-2-2-2zM9 17H7v-7h2v7zm4 0h-2V7h2v10zm4 0h-2v-4h2v4z\"/>\n",
              "    </g>\n",
              "</svg>\n",
              "      </button>\n",
              "\n",
              "<style>\n",
              "  .colab-df-quickchart {\n",
              "      --bg-color: #E8F0FE;\n",
              "      --fill-color: #1967D2;\n",
              "      --hover-bg-color: #E2EBFA;\n",
              "      --hover-fill-color: #174EA6;\n",
              "      --disabled-fill-color: #AAA;\n",
              "      --disabled-bg-color: #DDD;\n",
              "  }\n",
              "\n",
              "  [theme=dark] .colab-df-quickchart {\n",
              "      --bg-color: #3B4455;\n",
              "      --fill-color: #D2E3FC;\n",
              "      --hover-bg-color: #434B5C;\n",
              "      --hover-fill-color: #FFFFFF;\n",
              "      --disabled-bg-color: #3B4455;\n",
              "      --disabled-fill-color: #666;\n",
              "  }\n",
              "\n",
              "  .colab-df-quickchart {\n",
              "    background-color: var(--bg-color);\n",
              "    border: none;\n",
              "    border-radius: 50%;\n",
              "    cursor: pointer;\n",
              "    display: none;\n",
              "    fill: var(--fill-color);\n",
              "    height: 32px;\n",
              "    padding: 0;\n",
              "    width: 32px;\n",
              "  }\n",
              "\n",
              "  .colab-df-quickchart:hover {\n",
              "    background-color: var(--hover-bg-color);\n",
              "    box-shadow: 0 1px 2px rgba(60, 64, 67, 0.3), 0 1px 3px 1px rgba(60, 64, 67, 0.15);\n",
              "    fill: var(--button-hover-fill-color);\n",
              "  }\n",
              "\n",
              "  .colab-df-quickchart-complete:disabled,\n",
              "  .colab-df-quickchart-complete:disabled:hover {\n",
              "    background-color: var(--disabled-bg-color);\n",
              "    fill: var(--disabled-fill-color);\n",
              "    box-shadow: none;\n",
              "  }\n",
              "\n",
              "  .colab-df-spinner {\n",
              "    border: 2px solid var(--fill-color);\n",
              "    border-color: transparent;\n",
              "    border-bottom-color: var(--fill-color);\n",
              "    animation:\n",
              "      spin 1s steps(1) infinite;\n",
              "  }\n",
              "\n",
              "  @keyframes spin {\n",
              "    0% {\n",
              "      border-color: transparent;\n",
              "      border-bottom-color: var(--fill-color);\n",
              "      border-left-color: var(--fill-color);\n",
              "    }\n",
              "    20% {\n",
              "      border-color: transparent;\n",
              "      border-left-color: var(--fill-color);\n",
              "      border-top-color: var(--fill-color);\n",
              "    }\n",
              "    30% {\n",
              "      border-color: transparent;\n",
              "      border-left-color: var(--fill-color);\n",
              "      border-top-color: var(--fill-color);\n",
              "      border-right-color: var(--fill-color);\n",
              "    }\n",
              "    40% {\n",
              "      border-color: transparent;\n",
              "      border-right-color: var(--fill-color);\n",
              "      border-top-color: var(--fill-color);\n",
              "    }\n",
              "    60% {\n",
              "      border-color: transparent;\n",
              "      border-right-color: var(--fill-color);\n",
              "    }\n",
              "    80% {\n",
              "      border-color: transparent;\n",
              "      border-right-color: var(--fill-color);\n",
              "      border-bottom-color: var(--fill-color);\n",
              "    }\n",
              "    90% {\n",
              "      border-color: transparent;\n",
              "      border-bottom-color: var(--fill-color);\n",
              "    }\n",
              "  }\n",
              "</style>\n",
              "\n",
              "      <script>\n",
              "        async function quickchart(key) {\n",
              "          const quickchartButtonEl =\n",
              "            document.querySelector('#' + key + ' button');\n",
              "          quickchartButtonEl.disabled = true;  // To prevent multiple clicks.\n",
              "          quickchartButtonEl.classList.add('colab-df-spinner');\n",
              "          try {\n",
              "            const charts = await google.colab.kernel.invokeFunction(\n",
              "                'suggestCharts', [key], {});\n",
              "          } catch (error) {\n",
              "            console.error('Error during call to suggestCharts:', error);\n",
              "          }\n",
              "          quickchartButtonEl.classList.remove('colab-df-spinner');\n",
              "          quickchartButtonEl.classList.add('colab-df-quickchart-complete');\n",
              "        }\n",
              "        (() => {\n",
              "          let quickchartButtonEl =\n",
              "            document.querySelector('#df-ecee97ce-8e24-45a5-b9e8-9cd5051509c3 button');\n",
              "          quickchartButtonEl.style.display =\n",
              "            google.colab.kernel.accessAllowed ? 'block' : 'none';\n",
              "        })();\n",
              "      </script>\n",
              "    </div>\n",
              "\n",
              "  <div id=\"id_e9ac0850-f09c-4854-a5e6-a9362266d89f\">\n",
              "    <style>\n",
              "      .colab-df-generate {\n",
              "        background-color: #E8F0FE;\n",
              "        border: none;\n",
              "        border-radius: 50%;\n",
              "        cursor: pointer;\n",
              "        display: none;\n",
              "        fill: #1967D2;\n",
              "        height: 32px;\n",
              "        padding: 0 0 0 0;\n",
              "        width: 32px;\n",
              "      }\n",
              "\n",
              "      .colab-df-generate:hover {\n",
              "        background-color: #E2EBFA;\n",
              "        box-shadow: 0px 1px 2px rgba(60, 64, 67, 0.3), 0px 1px 3px 1px rgba(60, 64, 67, 0.15);\n",
              "        fill: #174EA6;\n",
              "      }\n",
              "\n",
              "      [theme=dark] .colab-df-generate {\n",
              "        background-color: #3B4455;\n",
              "        fill: #D2E3FC;\n",
              "      }\n",
              "\n",
              "      [theme=dark] .colab-df-generate:hover {\n",
              "        background-color: #434B5C;\n",
              "        box-shadow: 0px 1px 3px 1px rgba(0, 0, 0, 0.15);\n",
              "        filter: drop-shadow(0px 1px 2px rgba(0, 0, 0, 0.3));\n",
              "        fill: #FFFFFF;\n",
              "      }\n",
              "    </style>\n",
              "    <button class=\"colab-df-generate\" onclick=\"generateWithVariable('tenure_ratios')\"\n",
              "            title=\"Generate code using this dataframe.\"\n",
              "            style=\"display:none;\">\n",
              "\n",
              "  <svg xmlns=\"http://www.w3.org/2000/svg\" height=\"24px\"viewBox=\"0 0 24 24\"\n",
              "       width=\"24px\">\n",
              "    <path d=\"M7,19H8.4L18.45,9,17,7.55,7,17.6ZM5,21V16.75L18.45,3.32a2,2,0,0,1,2.83,0l1.4,1.43a1.91,1.91,0,0,1,.58,1.4,1.91,1.91,0,0,1-.58,1.4L9.25,21ZM18.45,9,17,7.55Zm-12,3A5.31,5.31,0,0,0,4.9,8.1,5.31,5.31,0,0,0,1,6.5,5.31,5.31,0,0,0,4.9,4.9,5.31,5.31,0,0,0,6.5,1,5.31,5.31,0,0,0,8.1,4.9,5.31,5.31,0,0,0,12,6.5,5.46,5.46,0,0,0,6.5,12Z\"/>\n",
              "  </svg>\n",
              "    </button>\n",
              "    <script>\n",
              "      (() => {\n",
              "      const buttonEl =\n",
              "        document.querySelector('#id_e9ac0850-f09c-4854-a5e6-a9362266d89f button.colab-df-generate');\n",
              "      buttonEl.style.display =\n",
              "        google.colab.kernel.accessAllowed ? 'block' : 'none';\n",
              "\n",
              "      buttonEl.onclick = () => {\n",
              "        google.colab.notebook.generateWithVariable('tenure_ratios');\n",
              "      }\n",
              "      })();\n",
              "    </script>\n",
              "  </div>\n",
              "\n",
              "    </div>\n",
              "  </div>\n"
            ],
            "application/vnd.google.colaboratory.intrinsic+json": {
              "type": "dataframe",
              "variable_name": "tenure_ratios",
              "summary": "{\n  \"name\": \"tenure_ratios\",\n  \"rows\": 5,\n  \"fields\": [\n    {\n      \"column\": \"Tenure Bucket\",\n      \"properties\": {\n        \"dtype\": \"string\",\n        \"num_unique_values\": 5,\n        \"samples\": [\n          \"31-60\",\n          \"On Job Training\",\n          \"61-90\"\n        ],\n        \"semantic_type\": \"\",\n        \"description\": \"\"\n      }\n    },\n    {\n      \"column\": \"Ratio_CSAT_1\",\n      \"properties\": {\n        \"dtype\": \"number\",\n        \"std\": 0.017864684692409313,\n        \"min\": 0.10108361636745916,\n        \"max\": 0.14947135061391542,\n        \"num_unique_values\": 5,\n        \"samples\": [\n          0.11288241798746775,\n          0.14947135061391542,\n          0.10108361636745916\n        ],\n        \"semantic_type\": \"\",\n        \"description\": \"\"\n      }\n    },\n    {\n      \"column\": \"Ratio_CSAT_5\",\n      \"properties\": {\n        \"dtype\": \"number\",\n        \"std\": 0.028178442039393948,\n        \"min\": 0.6605133015006821,\n        \"max\": 0.7355652595827268,\n        \"num_unique_values\": 5,\n        \"samples\": [\n          0.7193144120899373,\n          0.6605133015006821,\n          0.7355652595827268\n        ],\n        \"semantic_type\": \"\",\n        \"description\": \"\"\n      }\n    }\n  ]\n}"
            }
          },
          "metadata": {}
        }
      ]
    },
    {
      "cell_type": "markdown",
      "source": [
        "From this you can see that\n",
        "* On Job Training have highest 1 star ratio and lowest 5 star ratio.\n",
        "* 61-90 has the lowest 1 star rating and highest 5 star rating\n",
        "* >90 has a 5 star rating lower than 31-90 period bucket just above the freshers and 30 day bucket and the second highest 1 star ratings just above the job training bucket\n",
        "\n",
        "This helps to verify the claims below and disprove the myth/fact that CSAT and Experience are proportional\n",
        "\n",
        "\n",
        "\n",
        "---\n",
        "\n"
      ],
      "metadata": {
        "id": "uPZCiH-Q9rje"
      }
    },
    {
      "cell_type": "markdown",
      "source": [
        "##### 1. Why did you pick the specific chart?"
      ],
      "metadata": {
        "id": "jj7wYXLtphqO"
      }
    },
    {
      "cell_type": "markdown",
      "source": [
        "I chose the countplot to visualize how customer satisfaction (CSAT) scores vary across different agent tenure groups. This chart is ideal because it clearly shows both the volume and distribution of ratings (1 to 5) for each tenure bucket. It helps analyze whether agent experience level influences customer satisfaction, and whether newly onboarded or long-serving agents are performing better."
      ],
      "metadata": {
        "id": "Ob8u6rCTphqO"
      }
    },
    {
      "cell_type": "markdown",
      "source": [
        "##### 2. What is/are the insight(s) found from the chart?"
      ],
      "metadata": {
        "id": "eZrbJ2SmphqO"
      }
    },
    {
      "cell_type": "markdown",
      "source": [
        "The chart revealed a few key patterns:\n",
        "\n",
        "* Agents in the \"On Job Training\" bucket have higher proportions of 1-star ratings, suggesting a performance issue during the early onboarding phase.\n",
        "\n",
        "* Interestingly, agents in the \"61–90\" day bucket appear to perform best, with fewer low ratings and more 5-star scores.\n",
        "\n",
        "* However, the \">90\" bucket (most experienced agents) still show a notable number of 1-star ratings indicating that longer tenure doesn’t automatically lead to better performance, and may require ongoing feedback or training.\n",
        "\n",
        "Overall, mid-tenure agents (61–90) seem to hit a performance sweet spot."
      ],
      "metadata": {
        "id": "mZtgC_hjphqO"
      }
    },
    {
      "cell_type": "markdown",
      "source": [
        "##### 3. Will the gained insights help creating a positive business impact?\n",
        "Are there any insights that lead to negative growth? Justify with specific reason."
      ],
      "metadata": {
        "id": "rFu4xreNphqO"
      }
    },
    {
      "cell_type": "markdown",
      "source": [
        "Yes, these insights are highly actionable. They suggest that:\n",
        "\n",
        "* Early-stage agents (especially trainees) may benefit from more structured mentoring or support to avoid poor customer experiences.\n",
        "\n",
        "* Mid-tenure agents can be studied further to replicate their practices across other tenure groups.\n",
        "\n",
        "* For experienced agents with increasing 1-star ratings, complacency or fatigue might be affecting quality — regular feedback loops or refresher sessions can help.\n",
        "\n",
        "Ignoring these patterns could lead to customer dissatisfaction during onboarding or agent burnout at later stages, both of which negatively impact service consistency and CSAT."
      ],
      "metadata": {
        "id": "ey_0qi68phqO"
      }
    },
    {
      "cell_type": "markdown",
      "source": [
        "#### **9. Impact of CSAT w.r.t Agent Shift**"
      ],
      "metadata": {
        "id": "YJ55k-q6phqO"
      }
    },
    {
      "cell_type": "code",
      "source": [
        "plt.figure(figsize=(10,6))\n",
        "sns.countplot(data=df, x='Agent Shift', hue='CSAT Score', palette='Set2')\n",
        "plt.title(\"CSAT Score Distribution by Agent Shift\")\n",
        "plt.xlabel(\"Agent Shift\")\n",
        "plt.ylabel(\"Number of Responses\")\n",
        "plt.legend(title=\"CSAT Score\")\n",
        "plt.xticks(rotation=45)\n",
        "plt.tight_layout()\n",
        "plt.show()"
      ],
      "metadata": {
        "id": "B2aS4O1ophqO",
        "colab": {
          "base_uri": "https://localhost:8080/",
          "height": 528
        },
        "outputId": "81286471-5270-442f-a78c-cf77ff55ca21"
      },
      "execution_count": null,
      "outputs": [
        {
          "output_type": "display_data",
          "data": {
            "text/plain": [
              "<Figure size 1000x600 with 1 Axes>"
            ],
            "image/png": "[encoded data removed]"
          },
          "metadata": {}
        }
      ]
    },
    {
      "cell_type": "markdown",
      "source": [
        "##### 1. Why did you pick the specific chart?"
      ],
      "metadata": {
        "id": "gCFgpxoyphqP"
      }
    },
    {
      "cell_type": "markdown",
      "source": [
        "I chose the countplot to visualize how CSAT scores vary across different agent shifts (Morning, Evening, and Night). This chart allows us to easily compare the volume of customer ratings received during each shift and analyze how agent availability and time of day might influence customer satisfaction. It’s effective for spotting shift-wise service quality trends that might not be obvious from summary statistics."
      ],
      "metadata": {
        "id": "TVxDimi2phqP"
      }
    },
    {
      "cell_type": "markdown",
      "source": [
        "##### 2. What is/are the insight(s) found from the chart?"
      ],
      "metadata": {
        "id": "OVtJsKN_phqQ"
      }
    },
    {
      "cell_type": "markdown",
      "source": [
        "The chart revealed that:\n",
        "\n",
        "* Morning and Evening shifts handle the majority of customer interactions, with both receiving high volumes of 5-star and 1-star ratings.\n",
        "\n",
        "* Night shift has a significantly lower volume but shows more consistency, with relatively fewer 1-star ratings.\n",
        "\n",
        "* The evening shift had slightly higher instances of 1-star ratings than other shifts, which might indicate issues like fatigue, agent overload, or lack of senior support during those hours."
      ],
      "metadata": {
        "id": "ngGi97qjphqQ"
      }
    },
    {
      "cell_type": "markdown",
      "source": [
        "##### 3. Will the gained insights help creating a positive business impact?\n",
        "Are there any insights that lead to negative growth? Justify with specific reason."
      ],
      "metadata": {
        "id": "lssrdh5qphqQ"
      }
    },
    {
      "cell_type": "markdown",
      "source": [
        "Yes, the insights from this graph can lead to a positive business impact:\n",
        "\n",
        "* Knowing which shifts receive more negative CSAT ratings allows the business to allocate better resources, such as senior agents, training, or backup support, to the affected time slots.\n",
        "\n",
        "* The Night shift's consistency, despite fewer interactions, can be used as a benchmark to improve Morning and Evening shift processes.\n",
        "\n",
        "If not addressed, the performance gap during peak shifts like Evening could lead to customer frustration and dissatisfaction, especially if issue resolution is rushed or inconsistent, a direct risk to CSAT and customer retention."
      ],
      "metadata": {
        "id": "tBpY5ekJphqQ"
      }
    },
    {
      "cell_type": "markdown",
      "source": [
        "#### **10. Impact of CSAT w.r.t Handling Time**"
      ],
      "metadata": {
        "id": "U2RJ9gkRphqQ"
      }
    },
    {
      "cell_type": "code",
      "source": [
        "df_filtered = df[df['connected_handling_time'] <= 500]\n",
        "\n",
        "plt.figure(figsize=(10, 6))\n",
        "sns.boxplot(data=df_filtered, x='CSAT Score', y='connected_handling_time', palette='coolwarm')\n",
        "plt.title(\"Boxplot: Handling Time vs CSAT Score\")\n",
        "plt.xlabel(\"CSAT Score\")\n",
        "plt.ylabel(\"Handling Time (Minutes)\")\n",
        "plt.grid(axis='y', linestyle='--', alpha=0.5)\n",
        "plt.tight_layout()\n",
        "plt.show()\n"
      ],
      "metadata": {
        "id": "GM7a4YP4phqQ",
        "colab": {
          "base_uri": "https://localhost:8080/",
          "height": 528
        },
        "outputId": "c7c9bba8-14f0-452f-bc28-7abf1d635305"
      },
      "execution_count": null,
      "outputs": [
        {
          "output_type": "display_data",
          "data": {
            "text/plain": [
              "<Figure size 1000x600 with 1 Axes>"
            ],
            "image/png": "[encoded data removed]"
          },
          "metadata": {}
        }
      ]
    },
    {
      "cell_type": "markdown",
      "source": [
        "##### 1. Why did you pick the specific chart?"
      ],
      "metadata": {
        "id": "1M8mcRywphqQ"
      }
    },
    {
      "cell_type": "markdown",
      "source": [
        "I chose a boxplot because it allows us to clearly observe the distribution and spread of handling times across different CSAT score levels. It visualizes key statistical markers like the median, interquartile range, and outliers, helping us understand whether longer or shorter handling durations impact customer satisfaction.`"
      ],
      "metadata": {
        "id": "8agQvks0phqQ"
      }
    },
    {
      "cell_type": "markdown",
      "source": [
        "##### 2. What is/are the insight(s) found from the chart?"
      ],
      "metadata": {
        "id": "tgIPom80phqQ"
      }
    },
    {
      "cell_type": "markdown",
      "source": [
        "The boxplot reveals a few interesting findings:\n",
        "\n",
        "* Tickets rated 3, 4, and 5 generally have higher median handling times compared to tickets rated 1 or 2.\n",
        "\n",
        "* 1-star and 2-star rated tickets were resolved relatively quickly, suggesting that short handling time does not always indicate quality resolution.\n",
        "\n",
        "* Higher CSAT scores (especially 5) have a wider spread of handling times, meaning customers were still satisfied even when the resolution took longer.\n",
        "\n",
        "This shows that speed is not the only factor in customer satisfaction. Quality and Completeness of the resolution may matter more."
      ],
      "metadata": {
        "id": "Qp13pnNzphqQ"
      }
    },
    {
      "cell_type": "markdown",
      "source": [
        "##### 3. Will the gained insights help creating a positive business impact?\n",
        "Are there any insights that lead to negative growth? Justify with specific reason."
      ],
      "metadata": {
        "id": "JMzcOPDDphqR"
      }
    },
    {
      "cell_type": "markdown",
      "source": [
        "Yes, this insight can help businesses rethink how they measure support efficiency. Instead of pushing agents to close tickets faster, the focus should shift toward effective resolution, even if it takes more time.\n",
        "\n",
        "If misunderstood, the push for low handling time might lead to rushed or incomplete solutions, which could explain the low CSAT scores for some quickly closed tickets. This would result in negative customer experiences and potential churn, contributing to negative growth over time."
      ],
      "metadata": {
        "id": "R4Ka1PC2phqR"
      }
    },
    {
      "cell_type": "markdown",
      "source": [
        "#### **11. Count of 1-Star CSAT Score by Tenure Bucket**"
      ],
      "metadata": {
        "id": "x-EpHcCOp1ci"
      }
    },
    {
      "cell_type": "code",
      "source": [
        "# Lets filter the dataframe for 1-star CSAT scores and handling time less than 300 minutes and plot a graph\n",
        "low_csat_short_handling = df[(df['CSAT Score'] == 1) & (df['connected_handling_time'] < 300)]\n",
        "\n",
        "plt.figure(figsize=(10, 6))\n",
        "sns.countplot(data=low_csat_short_handling, x='Tenure Bucket', palette='viridis')\n",
        "plt.title('Count of 1-Star CSAT (< 300 mins handling) by Tenure Bucket')\n",
        "plt.xlabel('Agent Tenure Bucket')\n",
        "plt.ylabel('Count of 1-Star Interactions')\n",
        "plt.xticks(rotation=45)\n",
        "plt.tight_layout()\n",
        "plt.show()"
      ],
      "metadata": {
        "id": "mAQTIvtqp1cj",
        "colab": {
          "base_uri": "https://localhost:8080/",
          "height": 528
        },
        "outputId": "9f3e88b0-dd88-4d1a-8f83-42067c85fa44"
      },
      "execution_count": null,
      "outputs": [
        {
          "output_type": "display_data",
          "data": {
            "text/plain": [
              "<Figure size 1000x600 with 1 Axes>"
            ],
            "image/png": "[encoded data removed]"
          },
          "metadata": {}
        }
      ]
    },
    {
      "cell_type": "markdown",
      "source": [
        "##### 1. Why did you pick the specific chart?"
      ],
      "metadata": {
        "id": "X_VqEhTip1ck"
      }
    },
    {
      "cell_type": "markdown",
      "source": [
        "I selected this countplot because it focuses on a very specific and critical scenario — 1-star CSAT ratings for cases that had short handling times (< 300 mins), broken down by agent experience (tenure bucket). This helps isolate instances where customers were unhappy despite the interaction being resolved quickly, pointing to quality issues rather than speed problems. It's a strategic chart for understanding where fast but poor service might be happening."
      ],
      "metadata": {
        "id": "-vsMzt_np1ck"
      }
    },
    {
      "cell_type": "markdown",
      "source": [
        "##### 2. What is/are the insight(s) found from the chart?"
      ],
      "metadata": {
        "id": "8zGJKyg5p1ck"
      }
    },
    {
      "cell_type": "markdown",
      "source": [
        "From the chart, we can see that:\n",
        "\n",
        "* Agents in the \">90 days\" tenure group contributed to the majority of short-handled 1-star ratings.\n",
        "\n",
        "* Surprisingly, mid-experience groups like \"31–60\" and \"61–90\" had fewer such cases, suggesting they may handle quick resolutions more effectively.\n",
        "\n",
        "* This challenges the common assumption that more experience always equals better performance — here, experienced agents are more likely to rush cases and leave customers unsatisfied.\n",
        "\n"
      ],
      "metadata": {
        "id": "ZYdMsrqVp1ck"
      }
    },
    {
      "cell_type": "markdown",
      "source": [
        "##### 3. Will the gained insights help creating a positive business impact?\n",
        "Are there any insights that lead to negative growth? Justify with specific reason."
      ],
      "metadata": {
        "id": "PVzmfK_Ep1ck"
      }
    },
    {
      "cell_type": "markdown",
      "source": [
        "Yes, this insight is highly impactful. It indicates that:\n",
        "\n",
        "* Even experienced agents may need reminders to prioritize quality, especially when working through tickets quickly.\n",
        "\n",
        "* Targeted retraining for long-tenured agents can help reduce rushed and poorly resolved interactions.\n",
        "\n",
        "If ignored, this could lead to negative growth, especially if loyal customers are served by experienced agents but still receive dissatisfying resolutions, which can damage trust more than if it came from a new hire."
      ],
      "metadata": {
        "id": "druuKYZpp1ck"
      }
    },
    {
      "cell_type": "markdown",
      "source": [
        "#### **12. Impact of CSAT w.r.t Bottom Supervisors Perfomance**"
      ],
      "metadata": {
        "id": "n3dbpmDWp1ck"
      }
    },
    {
      "cell_type": "code",
      "source": [
        "# Group by Supervisor and calculate the mean CSAT Score\n",
        "supervisor_csat = df.groupby('Supervisor')['CSAT Score'].mean()\n",
        "\n",
        "# Sort in ascending order to find bottom performers and select the top 10\n",
        "bottom_supervisors = supervisor_csat.sort_values(ascending=True).head(10)\n",
        "\n",
        "# Create a horizontal bar plot for the bottom 10 supervisors\n",
        "plt.figure(figsize=(10, 6))\n",
        "bottom_supervisors.plot(kind='barh')\n",
        "plt.title('Bottom 10 Supervisors by Avg CSAT Score')\n",
        "plt.xlabel('Average CSAT Score')\n",
        "plt.ylabel('Supervisor Name')\n",
        "plt.tight_layout()\n",
        "plt.show()"
      ],
      "metadata": {
        "id": "bwevp1tKp1ck",
        "colab": {
          "base_uri": "https://localhost:8080/",
          "height": 528
        },
        "outputId": "f9e88572-59c8-4989-da57-edb7df84ba1f"
      },
      "execution_count": null,
      "outputs": [
        {
          "output_type": "display_data",
          "data": {
            "text/plain": [
              "<Figure size 1000x600 with 1 Axes>"
            ],
            "image/png": "[encoded data removed]"
          },
          "metadata": {}
        }
      ]
    },
    {
      "cell_type": "markdown",
      "source": [
        "Everyone seems to be in a 4.0 or above range except for Oliver Nguyen, let's analyze him in detail"
      ],
      "metadata": {
        "id": "EnB-F-y3Eupx"
      }
    },
    {
      "cell_type": "code",
      "source": [
        "# Lets filter the dataframe for the supervisor 'Oliver Nguyen'\n",
        "olivers_agents = df[df['Supervisor'] == 'Oliver Nguyen']\n",
        "\n",
        "# Now lets get the agents under this supervisor\n",
        "agents_on = olivers_agents['Agent_name'].unique()\n",
        "print(\"Agents under Supervisor Oliver Nguyen:\")\n",
        "for agent in agents_on:\n",
        "    print(agent)"
      ],
      "metadata": {
        "colab": {
          "base_uri": "https://localhost:8080/"
        },
        "id": "0ci2ptWXE7IK",
        "outputId": "af815f36-8ee8-49ec-e1dd-3299dd52748c"
      },
      "execution_count": null,
      "outputs": [
        {
          "output_type": "stream",
          "name": "stdout",
          "text": [
            "Agents under Supervisor Oliver Nguyen:\n",
            "Christopher Mcintosh\n",
            "Willie Flores\n",
            "Laura Allen\n",
            "Rebecca Miller\n",
            "James Chung\n",
            "Nicole Zavala\n"
          ]
        }
      ]
    },
    {
      "cell_type": "markdown",
      "source": [
        "These are the agents under the supervision of Oliver Nguyen. Lets see their perfomance by analyzing their average CSAT scores, it should provide a better view of Oliver's Supervision."
      ],
      "metadata": {
        "id": "opsuQpmDE_kZ"
      }
    },
    {
      "cell_type": "code",
      "source": [
        "# Lets group the data by Agent_name and calculate the mean CSAT Score for each agent\n",
        "agentO_csat = olivers_agents.groupby('Agent_name')['CSAT Score'].mean()\n",
        "print(\"Average CSAT Score for each Agent under Supervisor Oliver Nguyen:\")\n",
        "display(agentO_csat)"
      ],
      "metadata": {
        "colab": {
          "base_uri": "https://localhost:8080/",
          "height": 321
        },
        "id": "tjh9RvzBFOVr",
        "outputId": "cb87dc29-050a-4c7b-cc9b-e2c25b79c5ec"
      },
      "execution_count": null,
      "outputs": [
        {
          "output_type": "stream",
          "name": "stdout",
          "text": [
            "Average CSAT Score for each Agent under Supervisor Oliver Nguyen:\n"
          ]
        },
        {
          "output_type": "display_data",
          "data": {
            "text/plain": [
              "Agent_name\n",
              "Christopher Mcintosh    4.159091\n",
              "James Chung             4.010870\n",
              "Laura Allen             3.568182\n",
              "Nicole Zavala           2.250000\n",
              "Rebecca Miller          1.857143\n",
              "Willie Flores           2.500000\n",
              "Name: CSAT Score, dtype: float64"
            ],
            "text/html": [
              "<div>\n",
              "<style scoped>\n",
              "    .dataframe tbody tr th:only-of-type {\n",
              "        vertical-align: middle;\n",
              "    }\n",
              "\n",
              "    .dataframe tbody tr th {\n",
              "        vertical-align: top;\n",
              "    }\n",
              "\n",
              "    .dataframe thead th {\n",
              "        text-align: right;\n",
              "    }\n",
              "</style>\n",
              "<table border=\"1\" class=\"dataframe\">\n",
              "  <thead>\n",
              "    <tr style=\"text-align: right;\">\n",
              "      <th></th>\n",
              "      <th>CSAT Score</th>\n",
              "    </tr>\n",
              "    <tr>\n",
              "      <th>Agent_name</th>\n",
              "      <th></th>\n",
              "    </tr>\n",
              "  </thead>\n",
              "  <tbody>\n",
              "    <tr>\n",
              "      <th>Christopher Mcintosh</th>\n",
              "      <td>4.159091</td>\n",
              "    </tr>\n",
              "    <tr>\n",
              "      <th>James Chung</th>\n",
              "      <td>4.010870</td>\n",
              "    </tr>\n",
              "    <tr>\n",
              "      <th>Laura Allen</th>\n",
              "      <td>3.568182</td>\n",
              "    </tr>\n",
              "    <tr>\n",
              "      <th>Nicole Zavala</th>\n",
              "      <td>2.250000</td>\n",
              "    </tr>\n",
              "    <tr>\n",
              "      <th>Rebecca Miller</th>\n",
              "      <td>1.857143</td>\n",
              "    </tr>\n",
              "    <tr>\n",
              "      <th>Willie Flores</th>\n",
              "      <td>2.500000</td>\n",
              "    </tr>\n",
              "  </tbody>\n",
              "</table>\n",
              "</div><br><label><b>dtype:</b> float64</label>"
            ]
          },
          "metadata": {}
        }
      ]
    },
    {
      "cell_type": "markdown",
      "source": [
        "From this we can see that although Oliver has two good agents under him and the rest are doing very bad in terms of CSAT scores scoring 3.5 and below. Now it may be that Oliver has gotten unlucky in his agent choices but luck doesnt come in statistics and Oliver, as a supervisor is responsible for the CSAT scores of his agents and hence has to be taken into account and trained better or whatever may it be to improve the overall CSAT scores"
      ],
      "metadata": {
        "id": "A1r8JCyXFUDs"
      }
    },
    {
      "cell_type": "markdown",
      "source": [
        "##### 1. Why did you pick the specific chart?"
      ],
      "metadata": {
        "id": "ylSl6qgtp1ck"
      }
    },
    {
      "cell_type": "markdown",
      "source": [
        "I chose a horizontal bar chart to highlight the bottom 10 supervisors based on their average CSAT scores. This format is ideal for comparing supervisors with longer names and easily spotting which ones are consistently leading underperforming teams. It gives a clear view of performance gaps at the supervisory level, which is crucial for understanding leadership impact on customer satisfaction."
      ],
      "metadata": {
        "id": "m2xqNkiQp1ck"
      }
    },
    {
      "cell_type": "markdown",
      "source": [
        "##### 2. What is/are the insight(s) found from the chart?"
      ],
      "metadata": {
        "id": "ZWILFDl5p1ck"
      }
    },
    {
      "cell_type": "markdown",
      "source": [
        "The chart reveals that:\n",
        "\n",
        "* Certain supervisors are repeatedly associated with low average CSAT scores, and these are worth investigating further.\n",
        "\n",
        "\n",
        "* One standout case is Oliver Nguyen, who appears in the bottom 10 list.\n",
        "\n",
        "* A deeper dive into Oliver Nguyen’s team showed a mixed performance as some agents under him were performing fairly well, but others consistently received 1-star ratings, which significantly pulled down the supervisor’s average.\n",
        "\n",
        "This suggests that the low CSAT is not necessarily due to the supervisor’s strategy alone, but rather a lack of targeted support for underperforming agents under their supervision."
      ],
      "metadata": {
        "id": "x-lUsV2mp1ck"
      }
    },
    {
      "cell_type": "markdown",
      "source": [
        "##### 3. Will the gained insights help creating a positive business impact?\n",
        "Are there any insights that lead to negative growth? Justify with specific reason."
      ],
      "metadata": {
        "id": "M7G43BXep1ck"
      }
    },
    {
      "cell_type": "markdown",
      "source": [
        "Yes, these insights can have a strong positive impact:\n",
        "\n",
        "* By identifying low-performing supervisors, the business can introduce managerial training, performance reviews, or realignment of team structures.\n",
        "\n",
        "* In the Oliver Nguyen case, instead of holding the supervisor solely accountable, a targeted intervention for specific agents under their team can lift the overall performance.\n",
        "\n",
        "If these patterns are ignored, supervisors managing underperforming agents may continue to receive poor customer feedback, leading to negative customer experiences, increased churn, and deterioration of team morale and brand trust, ultimately contributing to negative business growth.\n",
        "\n"
      ],
      "metadata": {
        "id": "5wwDJXsLp1cl"
      }
    },
    {
      "cell_type": "markdown",
      "source": [
        "#### **13. Impact of CSAT w.r.t Top Supervisors Perfomance**"
      ],
      "metadata": {
        "id": "Ag9LCva-p1cl"
      }
    },
    {
      "cell_type": "code",
      "source": [
        "# Sort in descending order to find top performers and select the top 10\n",
        "top_supervisors = supervisor_csat.sort_values(ascending=False).head(10)\n",
        "\n",
        "# Create a horizontal bar plot for the top 10 supervisors\n",
        "plt.figure(figsize=(10, 6))\n",
        "top_supervisors.plot(kind='barh')\n",
        "plt.title('Top 10 Supervisors by Avg CSAT Score')\n",
        "plt.xlabel('Average CSAT Score')\n",
        "plt.ylabel('Supervisor Name')\n",
        "plt.tight_layout()\n",
        "plt.show()"
      ],
      "metadata": {
        "id": "EUfxeq9-p1cl"
      },
      "execution_count": null,
      "outputs": []
    },
    {
      "cell_type": "markdown",
      "source": [
        "##### 1. Why did you pick the specific chart?"
      ],
      "metadata": {
        "id": "E6MkPsBcp1cl"
      }
    },
    {
      "cell_type": "markdown",
      "source": [
        "I chose a horizontal bar chart to visualize the top 10 supervisors ranked by their average CSAT scores. This format makes it easy to compare supervisors with long names, and it clearly highlights those who consistently lead high-performing teams. It’s effective for recognizing leadership excellence and for identifying strategies worth replicating across the organization."
      ],
      "metadata": {
        "id": "V22bRsFWp1cl"
      }
    },
    {
      "cell_type": "markdown",
      "source": [
        "##### 2. What is/are the insight(s) found from the chart?"
      ],
      "metadata": {
        "id": "2cELzS2fp1cl"
      }
    },
    {
      "cell_type": "markdown",
      "source": [
        "The chart shows that:\n",
        "\n",
        "* The top-performing supervisors maintain average CSAT scores very close to 5, which reflects strong leadership, effective agent mentoring, and consistent service quality.\n",
        "\n",
        "* These supervisors likely manage agents who not only resolve issues effectively but also maintain customer empathy and communication standards.\n",
        "\n",
        "* Their performance sets a benchmark for CSAT excellence and helps differentiate leadership styles that produce better customer outcomes."
      ],
      "metadata": {
        "id": "ozQPc2_Ip1cl"
      }
    },
    {
      "cell_type": "markdown",
      "source": [
        "##### 3. Will the gained insights help creating a positive business impact?\n",
        "Are there any insights that lead to negative growth? Justify with specific reason."
      ],
      "metadata": {
        "id": "3MPXvC8up1cl"
      }
    },
    {
      "cell_type": "markdown",
      "source": [
        "Yes, these insights are valuable for creating a strong positive business impact:\n",
        "\n",
        "* High-performing supervisors can be leveraged as role models and may be involved in cross-training other teams or in developing best practices frameworks.\n",
        "\n",
        "* Understanding what works in their teams (e.g., shift scheduling, escalation handling, coaching style) can be scaled across the company.\n",
        "\n",
        "Ignoring their contributions could result in missed opportunities for wider improvement, and failure to recognize these leaders could demotivate top performers. This could eventually lead to retention issues or stagnation in CSAT growth, indirectly contributing to negative outcomes.\n",
        "\n"
      ],
      "metadata": {
        "id": "GL8l1tdLp1cl"
      }
    },
    {
      "cell_type": "markdown",
      "source": [
        "#### **14. Correlation Heatmap**"
      ],
      "metadata": {
        "id": "NC_X3p0fY2L0"
      }
    },
    {
      "cell_type": "code",
      "source": [
        "# Select only numerical columns for correlation\n",
        "num_cols = df[['CSAT Score', 'response_time_mins', 'connected_handling_time', 'Item_price']]\n",
        "\n",
        "# Compute correlation matrix\n",
        "corr_matrix = num_cols.corr()\n",
        "\n",
        "# Plot heatmap\n",
        "plt.figure(figsize=(8, 6))\n",
        "sns.heatmap(corr_matrix, annot=True, cmap='coolwarm', linewidths=0.5)\n",
        "plt.title(\"Correlation Heatmap of Numerical Features\")\n",
        "plt.tight_layout()\n",
        "plt.show()"
      ],
      "metadata": {
        "id": "xyC9zolEZNRQ",
        "colab": {
          "base_uri": "https://localhost:8080/",
          "height": 607
        },
        "outputId": "8ccf5783-369e-4522-e40e-d0b46bedb772"
      },
      "execution_count": null,
      "outputs": [
        {
          "output_type": "display_data",
          "data": {
            "text/plain": [
              "<Figure size 800x600 with 2 Axes>"
            ],
            "image/png": "[encoded data removed]"
          },
          "metadata": {}
        }
      ]
    },
    {
      "cell_type": "markdown",
      "source": [
        "##### 1. Why did you pick the specific chart?"
      ],
      "metadata": {
        "id": "UV0SzAkaZNRQ"
      }
    },
    {
      "cell_type": "markdown",
      "source": [
        "I chose this correlation heatmap because it's the most effective way to visually understand relationships between numerical variables in the dataset. It helps quickly identify which variables move together (positive correlation) or in opposite directions (negative correlation). For CSAT analysis, this chart helps reveal whether factors like response time, handling time, or product price have any measurable influence on satisfaction."
      ],
      "metadata": {
        "id": "DVPuT8LYZNRQ"
      }
    },
    {
      "cell_type": "markdown",
      "source": [
        "##### 2. What is/are the insight(s) found from the chart?"
      ],
      "metadata": {
        "id": "YPEH6qLeZNRQ"
      }
    },
    {
      "cell_type": "markdown",
      "source": [
        "The heatmap shows a few interesting correlations:\n",
        "\n",
        "* CSAT Score has a weak negative correlation with response time (-0.13), confirming earlier observations: longer wait times tend to slightly reduce customer satisfaction.\n",
        "\n",
        "* CSAT Score also has a mild negative correlation with item price (-0.12), which could suggest that customers with higher-value purchases are more likely to be disappointed if something goes wrong and so best agents can be appointed in such cases to avoid customer churn\n",
        "\n",
        "* Handling time has almost no correlation with CSAT (0.035) — supporting earlier insights that longer handling time doesn’t necessarily lead to dissatisfaction.\n",
        "\n",
        "* The strongest correlation (0.67) is between item price and handling time, likely because expensive orders may take longer to resolve due to escalations or validations.\n",
        "\n",
        "* Overall, no single variable has a strong direct correlation with CSAT, which suggests that customer satisfaction is influenced by a combination of factors — not just one metric like speed or price."
      ],
      "metadata": {
        "id": "bfSqtnDqZNRR"
      }
    },
    {
      "cell_type": "markdown",
      "source": [
        "#### **15. Pair Plot**"
      ],
      "metadata": {
        "id": "q29F0dvdveiT"
      }
    },
    {
      "cell_type": "code",
      "source": [
        "# Sample the dataframe to avoid overload\n",
        "df_sampled = df[['CSAT Score', 'response_time_mins', 'connected_handling_time', 'Item_price']].sample(3000, random_state=42)\n",
        "\n",
        "# Create pairplot\n",
        "sns.pairplot(df_sampled, corner=True, diag_kind='kde', palette='muted')\n",
        "plt.suptitle(\"Pairplot of Selected Numerical Features\", y=1.02)\n",
        "plt.show()"
      ],
      "metadata": {
        "id": "o58-TEIhveiU",
        "colab": {
          "base_uri": "https://localhost:8080/",
          "height": 907
        },
        "outputId": "75979aa1-3935-452e-a92d-fbfd92894a7b"
      },
      "execution_count": null,
      "outputs": [
        {
          "output_type": "display_data",
          "data": {
            "text/plain": [
              "<Figure size 1000x1000 with 14 Axes>"
            ],
            "image/png": "[encoded data removed]"
          },
          "metadata": {}
        }
      ]
    },
    {
      "cell_type": "markdown",
      "source": [
        "##### 1. Why did you pick the specific chart?"
      ],
      "metadata": {
        "id": "EXh0U9oCveiU"
      }
    },
    {
      "cell_type": "markdown",
      "source": [
        "I picked the pairplot because it’s a compact and powerful way to visualize pairwise relationships between multiple numerical variables at once. It shows both scatter plots for variable comparisons and distribution curves for individual features, helping us detect trends, clusters, and potential outliers. This is especially helpful for exploratory analysis where we want to understand how variables interact without manually plotting each pair."
      ],
      "metadata": {
        "id": "eMmPjTByveiU"
      }
    },
    {
      "cell_type": "markdown",
      "source": [
        "##### 2. What is/are the insight(s) found from the chart?"
      ],
      "metadata": {
        "id": "22aHeOlLveiV"
      }
    },
    {
      "cell_type": "markdown",
      "source": [
        "From the chart:\n",
        "\n",
        "The distribution plots show that:\n",
        "\n",
        "* CSAT Score is highly skewed toward 5, with smaller peaks at 1 and 3 — confirming earlier insights of a polarized customer base.\n",
        "\n",
        "* response_time_mins and connected_handling_time are heavily right-skewed, with most tickets being resolved quickly but a few taking much longer.\n",
        "\n",
        "* Item_price has a very narrow dense band with some extreme outliers, showing that most items are affordably priced but some are very high value.\n",
        "\n",
        "From the scatter plots:\n",
        "\n",
        "There's no clear linear relationship between CSAT Score and any other variable.\n",
        "\n",
        "* A slight trend between Item_price and connected_handling_time can be observed indicating more expensive items sometimes take longer to handle, which supports the correlation we saw in the heatmap.\n",
        "\n",
        "* There's a wide spread of response times across all CSAT levels, reinforcing the idea that satisfaction isn’t only about speed.\n",
        "\n",
        "Overall, the pairplot confirms that CSAT is influenced by multiple factors, and no single numeric variable shows a strong direct relationship. It validates our earlier conclusion: quality of support matters more than just speed or order value.\n",
        "\n"
      ],
      "metadata": {
        "id": "uPQ8RGwHveiV"
      }
    },
    {
      "cell_type": "markdown",
      "source": [
        "#### **16. Additional Research**"
      ],
      "metadata": {
        "id": "XYw2DmkGIZo5"
      }
    },
    {
      "cell_type": "markdown",
      "source": [
        "Since the >90 Tenure Bucket had poor perfomance and lower CSAT scores compared to the 31-90 bucket, I wanted to see who their supervisor was so that maybe I can find a correlation between the variables and pinpoint out the main issue causing high 1-star ratings."
      ],
      "metadata": {
        "id": "7xDtW7NFIq6w"
      }
    },
    {
      "cell_type": "code",
      "source": [
        "# Filter the DataFrame for agents in the \">90\" tenure bucket\n",
        "experienced_agents_df = df[df['Tenure Bucket'] == '>90']\n",
        "\n",
        "# Group by Supervisor and calculate the mean CSAT Score for these experienced agents\n",
        "supervisor_csat_experienced = experienced_agents_df.groupby('Supervisor')['CSAT Score'].mean()\n",
        "\n",
        "# Display the average CSAT score for experienced agents under each supervisor\n",
        "print(\"Average CSAT Score for Experienced Agents (>90 Tenure) by Supervisor:\")\n",
        "display(supervisor_csat_experienced.sort_values(ascending=False).tail())"
      ],
      "metadata": {
        "colab": {
          "base_uri": "https://localhost:8080/",
          "height": 289
        },
        "id": "gRfI2TnJIlIV",
        "outputId": "2c9909b2-0078-4d62-f20b-6891a04cb3c5"
      },
      "execution_count": null,
      "outputs": [
        {
          "output_type": "stream",
          "name": "stdout",
          "text": [
            "Average CSAT Score for Experienced Agents (>90 Tenure) by Supervisor:\n"
          ]
        },
        {
          "output_type": "display_data",
          "data": {
            "text/plain": [
              "Supervisor\n",
              "Charlotte Suzuki    3.931373\n",
              "Sophia Chen         3.924242\n",
              "Zoe Yamamoto        3.923789\n",
              "Emma Park           3.639937\n",
              "Oliver Nguyen       3.584000\n",
              "Name: CSAT Score, dtype: float64"
            ],
            "text/html": [
              "<div>\n",
              "<style scoped>\n",
              "    .dataframe tbody tr th:only-of-type {\n",
              "        vertical-align: middle;\n",
              "    }\n",
              "\n",
              "    .dataframe tbody tr th {\n",
              "        vertical-align: top;\n",
              "    }\n",
              "\n",
              "    .dataframe thead th {\n",
              "        text-align: right;\n",
              "    }\n",
              "</style>\n",
              "<table border=\"1\" class=\"dataframe\">\n",
              "  <thead>\n",
              "    <tr style=\"text-align: right;\">\n",
              "      <th></th>\n",
              "      <th>CSAT Score</th>\n",
              "    </tr>\n",
              "    <tr>\n",
              "      <th>Supervisor</th>\n",
              "      <th></th>\n",
              "    </tr>\n",
              "  </thead>\n",
              "  <tbody>\n",
              "    <tr>\n",
              "      <th>Charlotte Suzuki</th>\n",
              "      <td>3.931373</td>\n",
              "    </tr>\n",
              "    <tr>\n",
              "      <th>Sophia Chen</th>\n",
              "      <td>3.924242</td>\n",
              "    </tr>\n",
              "    <tr>\n",
              "      <th>Zoe Yamamoto</th>\n",
              "      <td>3.923789</td>\n",
              "    </tr>\n",
              "    <tr>\n",
              "      <th>Emma Park</th>\n",
              "      <td>3.639937</td>\n",
              "    </tr>\n",
              "    <tr>\n",
              "      <th>Oliver Nguyen</th>\n",
              "      <td>3.584000</td>\n",
              "    </tr>\n",
              "  </tbody>\n",
              "</table>\n",
              "</div><br><label><b>dtype:</b> float64</label>"
            ]
          },
          "metadata": {}
        }
      ]
    },
    {
      "cell_type": "markdown",
      "source": [
        "These are the supervisors handling the Experienced Agents and all manage to keep up 3.9 which is a near 4 average CSAT score except for Emma Park and the before mentioned Oliver Nguyen. Training both of them and the agents under them would for sure bring a very drastic uplift in the CSAT scores. Lets get even deeper and circle out the agents who are perfoming bad in this bucket."
      ],
      "metadata": {
        "id": "TfJM5-Q9JCZo"
      }
    },
    {
      "cell_type": "code",
      "source": [
        "# Filter the DataFrame for agents in the \">90\" tenure bucket (already have experienced_agents_df)\n",
        "\n",
        "# Group by Agent_name and calculate the mean CSAT Score for experienced agents\n",
        "agent_csat_experienced = experienced_agents_df.groupby('Agent_name')['CSAT Score'].mean()\n",
        "\n",
        "# Sort in ascending order to find the worst performers and select the bottom 18\n",
        "worst_experienced_agents = agent_csat_experienced.sort_values(ascending=True).head(18)\n",
        "\n",
        "# Display the worst performing experienced agents and their average CSAT scores\n",
        "print(\"Worst Performing Experienced Agents (>90 Tenure) by Avg CSAT Score:\")\n",
        "display(worst_experienced_agents)"
      ],
      "metadata": {
        "colab": {
          "base_uri": "https://localhost:8080/",
          "height": 697
        },
        "id": "VHJfbt3LJf7U",
        "outputId": "9c373437-d925-4862-86f8-7795f4a714ad"
      },
      "execution_count": null,
      "outputs": [
        {
          "output_type": "stream",
          "name": "stdout",
          "text": [
            "Worst Performing Experienced Agents (>90 Tenure) by Avg CSAT Score:\n"
          ]
        },
        {
          "output_type": "display_data",
          "data": {
            "text/plain": [
              "Agent_name\n",
              "Rebecca Miller        1.857143\n",
              "Philip Harmon         1.941176\n",
              "Curtis Mccarthy       2.100000\n",
              "Virginia Mccormick    2.129032\n",
              "Nicole Zavala         2.250000\n",
              "Wesley Meyer          2.259259\n",
              "Charles Morales       2.281250\n",
              "Tommy Davies          2.342857\n",
              "Pamela Perez          2.382353\n",
              "Willie Flores         2.500000\n",
              "Jason Wilson          2.500000\n",
              "Melissa Spence        2.500000\n",
              "Sarah Keller          2.527778\n",
              "Alyssa Jones          2.583333\n",
              "Veronica Anderson     2.636364\n",
              "Christine Castro      2.851852\n",
              "Curtis Hill           2.857143\n",
              "Jonathan Moore        2.909091\n",
              "Name: CSAT Score, dtype: float64"
            ],
            "text/html": [
              "<div>\n",
              "<style scoped>\n",
              "    .dataframe tbody tr th:only-of-type {\n",
              "        vertical-align: middle;\n",
              "    }\n",
              "\n",
              "    .dataframe tbody tr th {\n",
              "        vertical-align: top;\n",
              "    }\n",
              "\n",
              "    .dataframe thead th {\n",
              "        text-align: right;\n",
              "    }\n",
              "</style>\n",
              "<table border=\"1\" class=\"dataframe\">\n",
              "  <thead>\n",
              "    <tr style=\"text-align: right;\">\n",
              "      <th></th>\n",
              "      <th>CSAT Score</th>\n",
              "    </tr>\n",
              "    <tr>\n",
              "      <th>Agent_name</th>\n",
              "      <th></th>\n",
              "    </tr>\n",
              "  </thead>\n",
              "  <tbody>\n",
              "    <tr>\n",
              "      <th>Rebecca Miller</th>\n",
              "      <td>1.857143</td>\n",
              "    </tr>\n",
              "    <tr>\n",
              "      <th>Philip Harmon</th>\n",
              "      <td>1.941176</td>\n",
              "    </tr>\n",
              "    <tr>\n",
              "      <th>Curtis Mccarthy</th>\n",
              "      <td>2.100000</td>\n",
              "    </tr>\n",
              "    <tr>\n",
              "      <th>Virginia Mccormick</th>\n",
              "      <td>2.129032</td>\n",
              "    </tr>\n",
              "    <tr>\n",
              "      <th>Nicole Zavala</th>\n",
              "      <td>2.250000</td>\n",
              "    </tr>\n",
              "    <tr>\n",
              "      <th>Wesley Meyer</th>\n",
              "      <td>2.259259</td>\n",
              "    </tr>\n",
              "    <tr>\n",
              "      <th>Charles Morales</th>\n",
              "      <td>2.281250</td>\n",
              "    </tr>\n",
              "    <tr>\n",
              "      <th>Tommy Davies</th>\n",
              "      <td>2.342857</td>\n",
              "    </tr>\n",
              "    <tr>\n",
              "      <th>Pamela Perez</th>\n",
              "      <td>2.382353</td>\n",
              "    </tr>\n",
              "    <tr>\n",
              "      <th>Willie Flores</th>\n",
              "      <td>2.500000</td>\n",
              "    </tr>\n",
              "    <tr>\n",
              "      <th>Jason Wilson</th>\n",
              "      <td>2.500000</td>\n",
              "    </tr>\n",
              "    <tr>\n",
              "      <th>Melissa Spence</th>\n",
              "      <td>2.500000</td>\n",
              "    </tr>\n",
              "    <tr>\n",
              "      <th>Sarah Keller</th>\n",
              "      <td>2.527778</td>\n",
              "    </tr>\n",
              "    <tr>\n",
              "      <th>Alyssa Jones</th>\n",
              "      <td>2.583333</td>\n",
              "    </tr>\n",
              "    <tr>\n",
              "      <th>Veronica Anderson</th>\n",
              "      <td>2.636364</td>\n",
              "    </tr>\n",
              "    <tr>\n",
              "      <th>Christine Castro</th>\n",
              "      <td>2.851852</td>\n",
              "    </tr>\n",
              "    <tr>\n",
              "      <th>Curtis Hill</th>\n",
              "      <td>2.857143</td>\n",
              "    </tr>\n",
              "    <tr>\n",
              "      <th>Jonathan Moore</th>\n",
              "      <td>2.909091</td>\n",
              "    </tr>\n",
              "  </tbody>\n",
              "</table>\n",
              "</div><br><label><b>dtype:</b> float64</label>"
            ]
          },
          "metadata": {}
        }
      ]
    },
    {
      "cell_type": "markdown",
      "source": [
        "From this we can see all the bottom perfoming agents in the >90 Tenure Bucket. This can make the work easy for the company to target these individuals and retrain them and strengthen supervision around them and make sure they start perfoming well to bring on the significant increase in the CSAT scores."
      ],
      "metadata": {
        "id": "veUgpx5JJiSS"
      }
    },
    {
      "cell_type": "markdown",
      "source": [
        "## ***5. Hypothesis Testing***"
      ],
      "metadata": {
        "id": "g-ATYxFrGrvw"
      }
    },
    {
      "cell_type": "markdown",
      "source": [
        "### Based on your chart experiments, define three hypothetical statements from the dataset. In the next three questions, perform hypothesis testing to obtain final conclusion about the statements through your code and statistical testing."
      ],
      "metadata": {
        "id": "Yfr_Vlr8HBkt"
      }
    },
    {
      "cell_type": "markdown",
      "source": [
        "Answer Here."
      ],
      "metadata": {
        "id": "-7MS06SUHkB-"
      }
    },
    {
      "cell_type": "markdown",
      "source": [
        "### Hypothetical Statement - 1"
      ],
      "metadata": {
        "id": "8yEUt7NnHlrM"
      }
    },
    {
      "cell_type": "markdown",
      "source": [
        "#### 1. State Your research hypothesis as a null hypothesis and alternate hypothesis."
      ],
      "metadata": {
        "id": "tEA2Xm5dHt1r"
      }
    },
    {
      "cell_type": "markdown",
      "source": [
        "* Null Hypothesis (H₀): Average response time is the same across all CSAT score levels.\n",
        "\n",
        "* Alternate Hypothesis (H₁): Average response time differs across at least one CSAT score level"
      ],
      "metadata": {
        "id": "HI9ZP0laH0D-"
      }
    },
    {
      "cell_type": "markdown",
      "source": [
        "#### 2. Perform an appropriate statistical test."
      ],
      "metadata": {
        "id": "I79__PHVH19G"
      }
    },
    {
      "cell_type": "code",
      "source": [
        "from scipy.stats import f_oneway\n",
        "\n",
        "# Create response time groups for each CSAT score\n",
        "group1 = df[df['CSAT Score'] == 1]['response_time_mins']\n",
        "group2 = df[df['CSAT Score'] == 2]['response_time_mins']\n",
        "group3 = df[df['CSAT Score'] == 3]['response_time_mins']\n",
        "group4 = df[df['CSAT Score'] == 4]['response_time_mins']\n",
        "group5 = df[df['CSAT Score'] == 5]['response_time_mins']\n",
        "\n",
        "# Perform one-way ANOVA\n",
        "f_stat, p_value = f_oneway(group1, group2, group3, group4, group5)\n",
        "\n",
        "print(f\"F-statistic: {f_stat:.4f}\")\n",
        "print(f\"P-value: {p_value:.4f}\")\n",
        "if p_value < 0.05:\n",
        "    print(\"Average response time differs across CSAT score levels\")\n",
        "else:\n",
        "    print(\"Average response time is the same across CSAT score levels\")\n"
      ],
      "metadata": {
        "id": "oZrfquKtyian",
        "colab": {
          "base_uri": "https://localhost:8080/"
        },
        "outputId": "a76537ad-41ff-4313-dc9b-309b651f1fb0"
      },
      "execution_count": null,
      "outputs": [
        {
          "output_type": "stream",
          "name": "stdout",
          "text": [
            "F-statistic: 348.5945\n",
            "P-value: 0.0000\n",
            "Average response time differs across CSAT score levels\n"
          ]
        }
      ]
    },
    {
      "cell_type": "markdown",
      "source": [
        "##### Which statistical test have you done to obtain P-Value?"
      ],
      "metadata": {
        "id": "Ou-I18pAyIpj"
      }
    },
    {
      "cell_type": "markdown",
      "source": [
        "One-way ANOVA"
      ],
      "metadata": {
        "id": "s2U0kk00ygSB"
      }
    },
    {
      "cell_type": "markdown",
      "source": [
        "##### Why did you choose the specific statistical test?"
      ],
      "metadata": {
        "id": "fF3858GYyt-u"
      }
    },
    {
      "cell_type": "markdown",
      "source": [
        "Because CSAT is categorical and Response Time is continuous"
      ],
      "metadata": {
        "id": "HO4K0gP5y3B4"
      }
    },
    {
      "cell_type": "markdown",
      "source": [
        "### Hypothetical Statement - 2"
      ],
      "metadata": {
        "id": "4_0_7-oCpUZd"
      }
    },
    {
      "cell_type": "markdown",
      "source": [
        "#### 1. State Your research hypothesis as a null hypothesis and alternate hypothesis."
      ],
      "metadata": {
        "id": "hwyV_J3ipUZe"
      }
    },
    {
      "cell_type": "markdown",
      "source": [
        "* Null Hypothesis (H₀):\n",
        "Agent experience is proportional to CSAT score.\n",
        "(In other words, agents with more experience tend to get higher CSAT ratings — experience makes a difference.)\n",
        "\n",
        "*  Alternate Hypothesis (H₁):\n",
        "Agent experience is not proportional to CSAT score.\n",
        "(Experience level does not significantly impact CSAT score.)"
      ],
      "metadata": {
        "id": "FnpLGJ-4pUZe"
      }
    },
    {
      "cell_type": "markdown",
      "source": [
        "#### 2. Perform an appropriate statistical test."
      ],
      "metadata": {
        "id": "3yB-zSqbpUZe"
      }
    },
    {
      "cell_type": "code",
      "source": [
        "from scipy.stats import f_oneway\n",
        "\n",
        "# Create CSAT score groups for each tenure bucket\n",
        "group_ojt = df[df['Tenure Bucket'] == 'On Job Training']['CSAT Score']\n",
        "group_0_30 = df[df['Tenure Bucket'] == '0-30']['CSAT Score']\n",
        "group_31_60 = df[df['Tenure Bucket'] == '31-60']['CSAT Score']\n",
        "group_61_90 = df[df['Tenure Bucket'] == '61-90']['CSAT Score']\n",
        "group_90_plus = df[df['Tenure Bucket'] == '>90']['CSAT Score']\n",
        "\n",
        "# Perform one-way ANOVA\n",
        "f_stat, p_value = f_oneway(group_ojt, group_0_30, group_31_60, group_61_90, group_90_plus)\n",
        "\n",
        "print(f\"F-statistic: {f_stat:.4f}\")\n",
        "print(f\"P-value: {p_value:.4f}\")\n",
        "if p_value < 0.05:\n",
        "    print(\"Agent Experience not proportional to CSAT Score\")\n",
        "else:\n",
        "    print(\"Agent Experience proportional to CSAT Score\")\n"
      ],
      "metadata": {
        "id": "sWxdNTXNpUZe",
        "colab": {
          "base_uri": "https://localhost:8080/"
        },
        "outputId": "4922af9f-90f8-4aef-ecc1-2567d7fcd22e"
      },
      "execution_count": null,
      "outputs": [
        {
          "output_type": "stream",
          "name": "stdout",
          "text": [
            "F-statistic: 65.3541\n",
            "P-value: 0.0000\n",
            "Agent Experience not proportional to CSAT Score\n"
          ]
        }
      ]
    },
    {
      "cell_type": "markdown",
      "source": [
        "##### Which statistical test have you done to obtain P-Value?"
      ],
      "metadata": {
        "id": "dEUvejAfpUZe"
      }
    },
    {
      "cell_type": "markdown",
      "source": [
        "One Way ANOVA"
      ],
      "metadata": {
        "id": "oLDrPz7HpUZf"
      }
    },
    {
      "cell_type": "markdown",
      "source": [
        "##### Why did you choose the specific statistical test?"
      ],
      "metadata": {
        "id": "Fd15vwWVpUZf"
      }
    },
    {
      "cell_type": "markdown",
      "source": [
        "Because it allows us to compare the mean CSAT scores across multiple independent groups."
      ],
      "metadata": {
        "id": "4xOGYyiBpUZf"
      }
    },
    {
      "cell_type": "markdown",
      "source": [
        "### Hypothetical Statement - 3"
      ],
      "metadata": {
        "id": "bn_IUdTipZyH"
      }
    },
    {
      "cell_type": "markdown",
      "source": [
        "#### 1. State Your research hypothesis as a null hypothesis and alternate hypothesis."
      ],
      "metadata": {
        "id": "49K5P_iCpZyH"
      }
    },
    {
      "cell_type": "markdown",
      "source": [
        "* Null Hypothesis (H₀):\n",
        "There is no significant difference in CSAT scores based on how long the issue was handled.\n",
        "(Handling time does not affect customer satisfaction.)\n",
        "\n",
        "* Alternate Hypothesis (H₁):\n",
        "There is a significant difference in CSAT scores depending on handling time.\n",
        "(Handling time does affect customer satisfaction.)"
      ],
      "metadata": {
        "id": "7gWI5rT9pZyH"
      }
    },
    {
      "cell_type": "markdown",
      "source": [
        "#### 2. Perform an appropriate statistical test."
      ],
      "metadata": {
        "id": "Nff-vKELpZyI"
      }
    },
    {
      "cell_type": "code",
      "source": [
        "import pandas as pd\n",
        "from scipy.stats import f_oneway\n",
        "\n",
        "# Step 1: Drop missing values in required columns\n",
        "df_cleaned = df[['connected_handling_time', 'CSAT Score']].dropna()\n",
        "\n",
        "# Step 2: Create handling time buckets\n",
        "df_cleaned['handling_bucket'] = pd.cut(df_cleaned['connected_handling_time'],\n",
        "                                       bins=[0, 10, 30, 60, 120, 300, 1000],\n",
        "                                       labels=['0-10', '10-30', '30-60', '60-120', '120-300', '300-1000'])\n",
        "\n",
        "# Step 3: Group CSAT scores by handling time bucket\n",
        "groups = [group['CSAT Score'].values for _, group in df_cleaned.groupby('handling_bucket') if len(group) >= 2]\n",
        "\n",
        "# Step 4: Run ANOVA\n",
        "f_stat, p_value = f_oneway(*groups)\n",
        "\n",
        "print(f\"F-statistic: {f_stat:.4f}\")\n",
        "print(f\"P-value: {p_value:.4f}\")\n",
        "if p_value < 0.05:\n",
        "    print(\"There is a significant difference in CSAT scores depending on handling time\")\n",
        "else:\n",
        "    print(\"There is no significant difference in CSAT scores depending on handling time\")"
      ],
      "metadata": {
        "id": "s6AnJQjtpZyI",
        "colab": {
          "base_uri": "https://localhost:8080/"
        },
        "outputId": "d58ac70b-b74f-412c-fc19-b8123183c426"
      },
      "execution_count": null,
      "outputs": [
        {
          "output_type": "stream",
          "name": "stdout",
          "text": [
            "F-statistic: 3.1406\n",
            "P-value: 0.0453\n",
            "There is a significant difference in CSAT scores depending on handling time\n"
          ]
        }
      ]
    },
    {
      "cell_type": "markdown",
      "source": [
        "##### Which statistical test have you done to obtain P-Value?"
      ],
      "metadata": {
        "id": "kLW572S8pZyI"
      }
    },
    {
      "cell_type": "markdown",
      "source": [
        "One way ANOVA"
      ],
      "metadata": {
        "id": "ytWJ8v15pZyI"
      }
    },
    {
      "cell_type": "markdown",
      "source": [
        "##### Why did you choose the specific statistical test?"
      ],
      "metadata": {
        "id": "dWbDXHzopZyI"
      }
    },
    {
      "cell_type": "markdown",
      "source": [
        "Because it allows us to compare CSAT scores across multiple handling time buckets"
      ],
      "metadata": {
        "id": "M99G98V6pZyI"
      }
    },
    {
      "cell_type": "markdown",
      "source": [
        "## ***6. Feature Engineering & Data Pre-processing***"
      ],
      "metadata": {
        "id": "yLjJCtPM0KBk"
      }
    },
    {
      "cell_type": "markdown",
      "source": [
        "### 1. Handling Missing Values"
      ],
      "metadata": {
        "id": "xiyOF9F70UgQ"
      }
    },
    {
      "cell_type": "code",
      "source": [
        "# Check missing values in the dataset\n",
        "df.isnull().sum()\n",
        "\n",
        "# Drop rows with missing CSAT Score or Handling Time for accurate analysis\n",
        "df_cleaned = df[['CSAT Score', 'connected_handling_time', 'response_time_mins']].dropna()"
      ],
      "metadata": {
        "id": "iRsAHk1K0fpS"
      },
      "execution_count": 7,
      "outputs": []
    },
    {
      "cell_type": "markdown",
      "source": [
        "#### What all missing value imputation techniques have you used and why did you use those techniques?"
      ],
      "metadata": {
        "id": "7wuGOrhz0itI"
      }
    },
    {
      "cell_type": "markdown",
      "source": [
        "I used missing value removal (dropna) for columns like CSAT Score, response time, and handling time\n",
        "because imputation would bias our statistical analysis (ANOVA). Since these columns are critical for performance analysis,\n",
        "we preferred to drop incomplete rows instead of filling them. No imputation was performed for textual columns."
      ],
      "metadata": {
        "id": "1ixusLtI0pqI"
      }
    },
    {
      "cell_type": "markdown",
      "source": [
        "### 2. Handling Outliers"
      ],
      "metadata": {
        "id": "id1riN9m0vUs"
      }
    },
    {
      "cell_type": "code",
      "source": [
        "# Visualize outliers in handling time\n",
        "sns.boxplot(x=df['connected_handling_time'])\n",
        "\n",
        "# Cap extreme outliers\n",
        "# Keep only handling times < 1000 mins (around top 99.5 percentile)\n",
        "df = df[df['connected_handling_time'] < 1000]\n",
        "\n",
        "# Do the same for response_time if needed\n",
        "df = df[df['response_time_mins'] < 10000]"
      ],
      "metadata": {
        "id": "M6w2CzZf04JK",
        "colab": {
          "base_uri": "https://localhost:8080/",
          "height": 450
        },
        "outputId": "f6a011b2-782b-44d0-c849-d2cc06c27f72"
      },
      "execution_count": 6,
      "outputs": [
        {
          "output_type": "display_data",
          "data": {
            "text/plain": [
              "<Figure size 640x480 with 1 Axes>"
            ],
            "image/png": "[encoded data removed]"
          },
          "metadata": {}
        }
      ]
    },
    {
      "cell_type": "markdown",
      "source": [
        "##### What all outlier treatment techniques have you used and why did you use those techniques?"
      ],
      "metadata": {
        "id": "578E2V7j08f6"
      }
    },
    {
      "cell_type": "markdown",
      "source": [
        "I used boxplots to visually detect extreme outliers in `connected_handling_time` and `response_time_mins`.\n",
        "Outliers above 1000 and 10000 minutes respectively were removed to normalize distributions and reduce skewness."
      ],
      "metadata": {
        "id": "uGZz5OrT1HH-"
      }
    },
    {
      "cell_type": "markdown",
      "source": [
        "### 3. Categorical Encoding"
      ],
      "metadata": {
        "id": "89xtkJwZ18nB"
      }
    },
    {
      "cell_type": "code",
      "source": [
        "from sklearn.preprocessing import LabelEncoder\n",
        "\n",
        "le = LabelEncoder()\n",
        "df['Tenure Bucket Encoded'] = le.fit_transform(df['Tenure Bucket'])\n",
        "\n",
        "# One-hot encode Shift and Channel\n",
        "df = pd.get_dummies(df, columns=['Agent Shift', 'channel_name'], drop_first=True)"
      ],
      "metadata": {
        "id": "21JmIYMG2hEo"
      },
      "execution_count": 8,
      "outputs": []
    },
    {
      "cell_type": "markdown",
      "source": [
        "#### What all categorical encoding techniques have you used & why did you use those techniques?"
      ],
      "metadata": {
        "id": "67NQN5KX2AMe"
      }
    },
    {
      "cell_type": "markdown",
      "source": [
        "I used Label Encoding for the 'Tenure Bucket' column and One-Hot Encoding for 'Agent Shift' and 'channel_name'.\n",
        "This made the dataset ML-ready without introducing ordinal assumptions on non-ordinal categories."
      ],
      "metadata": {
        "id": "UDaue5h32n_G"
      }
    },
    {
      "cell_type": "markdown",
      "source": [
        "### 4. Textual Data Preprocessing\n",
        "(It's mandatory for textual dataset i.e., NLP, Sentiment Analysis, Text Clustering etc.)\n",
        "\n",
        "---\n",
        "\n",
        "This section was avoided as textual data was unusable hence avoided"
      ],
      "metadata": {
        "id": "Iwf50b-R2tYG"
      }
    },
    {
      "cell_type": "markdown",
      "source": [
        "#### 1. Expand Contraction"
      ],
      "metadata": {
        "id": "GMQiZwjn3iu7"
      }
    },
    {
      "cell_type": "code",
      "source": [
        "# Expand Contraction"
      ],
      "metadata": {
        "id": "PTouz10C3oNN"
      },
      "execution_count": null,
      "outputs": []
    },
    {
      "cell_type": "markdown",
      "source": [
        "#### 2. Lower Casing"
      ],
      "metadata": {
        "id": "WVIkgGqN3qsr"
      }
    },
    {
      "cell_type": "code",
      "source": [
        "# Lower Casing"
      ],
      "metadata": {
        "id": "88JnJ1jN3w7j"
      },
      "execution_count": null,
      "outputs": []
    },
    {
      "cell_type": "markdown",
      "source": [
        "#### 3. Removing Punctuations"
      ],
      "metadata": {
        "id": "XkPnILGE3zoT"
      }
    },
    {
      "cell_type": "code",
      "source": [
        "# Remove Punctuations"
      ],
      "metadata": {
        "id": "vqbBqNaA33c0"
      },
      "execution_count": null,
      "outputs": []
    },
    {
      "cell_type": "markdown",
      "source": [
        "#### 4. Removing URLs & Removing words and digits contain digits."
      ],
      "metadata": {
        "id": "Hlsf0x5436Go"
      }
    },
    {
      "cell_type": "code",
      "source": [
        "# Remove URLs & Remove words and digits contain digits"
      ],
      "metadata": {
        "id": "2sxKgKxu4Ip3"
      },
      "execution_count": null,
      "outputs": []
    },
    {
      "cell_type": "markdown",
      "source": [
        "#### 5. Removing Stopwords & Removing White spaces"
      ],
      "metadata": {
        "id": "mT9DMSJo4nBL"
      }
    },
    {
      "cell_type": "code",
      "source": [
        "# Remove Stopwords"
      ],
      "metadata": {
        "id": "T2LSJh154s8W"
      },
      "execution_count": null,
      "outputs": []
    },
    {
      "cell_type": "code",
      "source": [
        "# Remove White spaces"
      ],
      "metadata": {
        "id": "EgLJGffy4vm0"
      },
      "execution_count": null,
      "outputs": []
    },
    {
      "cell_type": "markdown",
      "source": [
        "#### 6. Rephrase Text"
      ],
      "metadata": {
        "id": "c49ITxTc407N"
      }
    },
    {
      "cell_type": "code",
      "source": [
        "# Rephrase Text"
      ],
      "metadata": {
        "id": "foqY80Qu48N2"
      },
      "execution_count": null,
      "outputs": []
    },
    {
      "cell_type": "markdown",
      "source": [
        "#### 7. Tokenization"
      ],
      "metadata": {
        "id": "OeJFEK0N496M"
      }
    },
    {
      "cell_type": "code",
      "source": [
        "# Tokenization"
      ],
      "metadata": {
        "id": "ijx1rUOS5CUU"
      },
      "execution_count": null,
      "outputs": []
    },
    {
      "cell_type": "markdown",
      "source": [
        "#### 8. Text Normalization"
      ],
      "metadata": {
        "id": "9ExmJH0g5HBk"
      }
    },
    {
      "cell_type": "code",
      "source": [
        "# Normalizing Text (i.e., Stemming, Lemmatization etc.)"
      ],
      "metadata": {
        "id": "AIJ1a-Zc5PY8"
      },
      "execution_count": null,
      "outputs": []
    },
    {
      "cell_type": "markdown",
      "source": [
        "##### Which text normalization technique have you used and why?"
      ],
      "metadata": {
        "id": "cJNqERVU536h"
      }
    },
    {
      "cell_type": "markdown",
      "source": [
        "Answer Here."
      ],
      "metadata": {
        "id": "Z9jKVxE06BC1"
      }
    },
    {
      "cell_type": "markdown",
      "source": [
        "#### 9. Part of speech tagging"
      ],
      "metadata": {
        "id": "k5UmGsbsOxih"
      }
    },
    {
      "cell_type": "code",
      "source": [
        "# POS Taging"
      ],
      "metadata": {
        "id": "btT3ZJBAO6Ik"
      },
      "execution_count": null,
      "outputs": []
    },
    {
      "cell_type": "markdown",
      "source": [
        "#### 10. Text Vectorization"
      ],
      "metadata": {
        "id": "T0VqWOYE6DLQ"
      }
    },
    {
      "cell_type": "code",
      "source": [
        "# Vectorizing Text"
      ],
      "metadata": {
        "id": "yBRtdhth6JDE"
      },
      "execution_count": null,
      "outputs": []
    },
    {
      "cell_type": "markdown",
      "source": [
        "##### Which text vectorization technique have you used and why?"
      ],
      "metadata": {
        "id": "qBMux9mC6MCf"
      }
    },
    {
      "cell_type": "markdown",
      "source": [
        "Answer Here."
      ],
      "metadata": {
        "id": "su2EnbCh6UKQ"
      }
    },
    {
      "cell_type": "markdown",
      "source": [
        "### 4. Feature Manipulation & Selection"
      ],
      "metadata": {
        "id": "-oLEiFgy-5Pf"
      }
    },
    {
      "cell_type": "markdown",
      "source": [
        "#### 1. Feature Manipulation"
      ],
      "metadata": {
        "id": "C74aWNz2AliB"
      }
    },
    {
      "cell_type": "code",
      "source": [
        "# Created log-transformed versions of skewed numerical features to reduce influence of outliers and improve normality.\n",
        "# Also bucketed handling times for better analysis in grouped comparisons.\n",
        "df['handling_bucket'] = pd.cut(df['connected_handling_time'], bins=[0, 10, 30, 60, 120, 300, 1000])"
      ],
      "metadata": {
        "id": "h1qC4yhBApWC"
      },
      "execution_count": null,
      "outputs": []
    },
    {
      "cell_type": "markdown",
      "source": [
        "#### 2. Feature Selection"
      ],
      "metadata": {
        "id": "2DejudWSA-a0"
      }
    },
    {
      "cell_type": "code",
      "source": [
        "selected_features = ['response_time_mins', 'connected_handling_time', 'Item_price', 'Tenure Bucket Encoded'] + \\\n",
        "                    [col for col in df.columns if col.startswith('Agent Shift_') or col.startswith('channel_name_')]\n",
        "\n",
        "X = df[selected_features]\n",
        "y = df['CSAT Score']\n"
      ],
      "metadata": {
        "id": "YLhe8UmaBCEE"
      },
      "execution_count": 11,
      "outputs": []
    },
    {
      "cell_type": "markdown",
      "source": [
        "##### What all feature selection methods have you used  and why?"
      ],
      "metadata": {
        "id": "pEMng2IbBLp7"
      }
    },
    {
      "cell_type": "markdown",
      "source": [
        "I used domain knowledge + exploratory data analysis (EDA) and correlation matrix to select features that influence CSAT. Features that were identifiers or highly redundant were excluded."
      ],
      "metadata": {
        "id": "rb2Lh6Z8BgGs"
      }
    },
    {
      "cell_type": "markdown",
      "source": [
        "##### Which all features you found important and why?"
      ],
      "metadata": {
        "id": "rAdphbQ9Bhjc"
      }
    },
    {
      "cell_type": "markdown",
      "source": [
        "The most important features were `response_time_mins`, `connected_handling_time`, `Item_price`, and `Tenure Bucket`. These had visible influence on CSAT through our visual and statistical analysis."
      ],
      "metadata": {
        "id": "fGgaEstsBnaf"
      }
    },
    {
      "cell_type": "markdown",
      "source": [
        "### 5. Data Transformation"
      ],
      "metadata": {
        "id": "TNVZ9zx19K6k"
      }
    },
    {
      "cell_type": "markdown",
      "source": [
        "#### Do you think that your data needs to be transformed? If yes, which transformation have you used. Explain Why?"
      ],
      "metadata": {
        "id": "nqoHp30x9hH9"
      }
    },
    {
      "cell_type": "code",
      "source": [
        "import numpy as np\n",
        "\n",
        "# Apply log1p transformation to skewed features\n",
        "X['response_time_mins'] = np.log1p(X['response_time_mins'])\n",
        "X['connected_handling_time'] = np.log1p(X['connected_handling_time'])\n",
        "X['Item_price'] = np.log1p(X['Item_price'])"
      ],
      "metadata": {
        "id": "C5Mjq-vJ2SnP"
      },
      "execution_count": 12,
      "outputs": []
    },
    {
      "cell_type": "markdown",
      "source": [
        "Yes, the data needed transformation. We applied **log1p transformation** on skewed columns such as `response_time_mins`, `connected_handling_time`, and `Item_price` to reduce skewness and improve model performance. Log transformation helps stabilize variance and normalize data."
      ],
      "metadata": {
        "id": "k0SkfZdR2G8A"
      }
    },
    {
      "cell_type": "markdown",
      "source": [
        "### 6. Data Scaling"
      ],
      "metadata": {
        "id": "rMDnDkt2B6du"
      }
    },
    {
      "cell_type": "code",
      "source": [
        "from sklearn.preprocessing import StandardScaler\n",
        "scaler = StandardScaler()\n",
        "X_scaled = scaler.fit_transform(X)"
      ],
      "metadata": {
        "id": "dL9LWpySC6x_"
      },
      "execution_count": 13,
      "outputs": []
    },
    {
      "cell_type": "markdown",
      "source": [
        "##### Which method have you used to scale you data and why?"
      ],
      "metadata": {
        "id": "yiiVWRdJDDil"
      }
    },
    {
      "cell_type": "markdown",
      "source": [
        "I used StandardScaler to scale numerical features. This is especially useful when features are on different scales and for algorithms like KNN, SVM, and PCA that are sensitive to magnitude."
      ],
      "metadata": {
        "id": "VfzLP_dw2eBF"
      }
    },
    {
      "cell_type": "markdown",
      "source": [
        "### 7. Dimesionality Reduction"
      ],
      "metadata": {
        "id": "1UUpS68QDMuG"
      }
    },
    {
      "cell_type": "markdown",
      "source": [
        "##### Do you think that dimensionality reduction is needed? Explain Why?"
      ],
      "metadata": {
        "id": "kexQrXU-DjzY"
      }
    },
    {
      "cell_type": "markdown",
      "source": [
        "Answer Here."
      ],
      "metadata": {
        "id": "GGRlBsSGDtTQ"
      }
    },
    {
      "cell_type": "code",
      "source": [
        "# DImensionality Reduction (If needed)"
      ],
      "metadata": {
        "id": "kQfvxBBHDvCa"
      },
      "execution_count": 15,
      "outputs": []
    },
    {
      "cell_type": "markdown",
      "source": [
        "##### Which dimensionality reduction technique have you used and why? (If dimensionality reduction done on dataset.)"
      ],
      "metadata": {
        "id": "T5CmagL3EC8N"
      }
    },
    {
      "cell_type": "markdown",
      "source": [
        "Answer Here."
      ],
      "metadata": {
        "id": "ZKr75IDuEM7t"
      }
    },
    {
      "cell_type": "markdown",
      "source": [
        "### 8. Data Splitting"
      ],
      "metadata": {
        "id": "BhH2vgX9EjGr"
      }
    },
    {
      "cell_type": "code",
      "source": [
        "from sklearn.model_selection import train_test_split\n",
        "X_train, X_test, y_train, y_test = train_test_split(X_scaled, y, test_size=0.2, random_state=42)"
      ],
      "metadata": {
        "id": "0CTyd2UwEyNM"
      },
      "execution_count": 16,
      "outputs": []
    },
    {
      "cell_type": "markdown",
      "source": [
        "##### What data splitting ratio have you used and why?"
      ],
      "metadata": {
        "id": "qjKvONjwE8ra"
      }
    },
    {
      "cell_type": "markdown",
      "source": [
        "I used an 80/20 train-test split using `train_test_split()`. 80% of the data was used to train the model and 20% reserved for validation. This ratio balances training depth with evaluation reliability."
      ],
      "metadata": {
        "id": "Y2lJ8cobFDb_"
      }
    },
    {
      "cell_type": "markdown",
      "source": [
        "### 9. Handling Imbalanced Dataset"
      ],
      "metadata": {
        "id": "P1XJ9OREExlT"
      }
    },
    {
      "cell_type": "markdown",
      "source": [
        "##### Do you think the dataset is imbalanced? Explain Why."
      ],
      "metadata": {
        "id": "VFOzZv6IFROw"
      }
    },
    {
      "cell_type": "markdown",
      "source": [
        "Yes — CSAT Score is skewed toward 5. There are significantly more 5-star ratings than other scores, especially 1 and 2-star ratings."
      ],
      "metadata": {
        "id": "GeKDIv7pFgcC"
      }
    },
    {
      "cell_type": "code",
      "source": [
        "sns.countplot(x='CSAT Score', data=df)"
      ],
      "metadata": {
        "id": "nQsRhhZLFiDs"
      },
      "execution_count": null,
      "outputs": []
    },
    {
      "cell_type": "markdown",
      "source": [
        "##### What technique did you use to handle the imbalance dataset and why? (If needed to be balanced)"
      ],
      "metadata": {
        "id": "TIqpNgepFxVj"
      }
    },
    {
      "cell_type": "markdown",
      "source": [
        "## ***7. ML Model Implementation***"
      ],
      "metadata": {
        "id": "VfCC591jGiD4"
      }
    },
    {
      "cell_type": "markdown",
      "source": [
        "NO ML MODELS WERE TRAINED IN THIS PROJECT"
      ],
      "metadata": {
        "id": "Bwjw8ejd5Yqc"
      }
    },
    {
      "cell_type": "markdown",
      "source": [
        "### ML Model - 1"
      ],
      "metadata": {
        "id": "OB4l2ZhMeS1U"
      }
    },
    {
      "cell_type": "code",
      "source": [
        "# ML Model - 1 Implementation\n",
        "\n",
        "# Fit the Algorithm\n",
        "\n",
        "# Predict on the model"
      ],
      "metadata": {
        "id": "7ebyywQieS1U"
      },
      "execution_count": null,
      "outputs": []
    },
    {
      "cell_type": "markdown",
      "source": [
        "#### 1. Explain the ML Model used and it's performance using Evaluation metric Score Chart."
      ],
      "metadata": {
        "id": "ArJBuiUVfxKd"
      }
    },
    {
      "cell_type": "code",
      "source": [
        "# Visualizing evaluation Metric Score chart"
      ],
      "metadata": {
        "id": "rqD5ZohzfxKe"
      },
      "execution_count": null,
      "outputs": []
    },
    {
      "cell_type": "markdown",
      "source": [
        "#### 2. Cross- Validation & Hyperparameter Tuning"
      ],
      "metadata": {
        "id": "4qY1EAkEfxKe"
      }
    },
    {
      "cell_type": "code",
      "source": [
        "# ML Model - 1 Implementation with hyperparameter optimization techniques (i.e., GridSearch CV, RandomSearch CV, Bayesian Optimization etc.)\n",
        "\n",
        "# Fit the Algorithm\n",
        "\n",
        "# Predict on the model"
      ],
      "metadata": {
        "id": "Dy61ujd6fxKe"
      },
      "execution_count": 20,
      "outputs": []
    },
    {
      "cell_type": "markdown",
      "source": [
        "##### Which hyperparameter optimization technique have you used and why?"
      ],
      "metadata": {
        "id": "PiV4Ypx8fxKe"
      }
    },
    {
      "cell_type": "markdown",
      "source": [
        "Answer Here."
      ],
      "metadata": {
        "id": "negyGRa7fxKf"
      }
    },
    {
      "cell_type": "markdown",
      "source": [
        "##### Have you seen any improvement? Note down the improvement with updates Evaluation metric Score Chart."
      ],
      "metadata": {
        "id": "TfvqoZmBfxKf"
      }
    },
    {
      "cell_type": "markdown",
      "source": [
        "Answer Here."
      ],
      "metadata": {
        "id": "OaLui8CcfxKf"
      }
    },
    {
      "cell_type": "markdown",
      "source": [
        "### ML Model - 2"
      ],
      "metadata": {
        "id": "dJ2tPlVmpsJ0"
      }
    },
    {
      "cell_type": "markdown",
      "source": [
        "#### 1. Explain the ML Model used and it's performance using Evaluation metric Score Chart."
      ],
      "metadata": {
        "id": "JWYfwnehpsJ1"
      }
    },
    {
      "cell_type": "code",
      "source": [
        "# Visualizing evaluation Metric Score chart"
      ],
      "metadata": {
        "id": "yEl-hgQWpsJ1"
      },
      "execution_count": null,
      "outputs": []
    },
    {
      "cell_type": "markdown",
      "source": [
        "#### 2. Cross- Validation & Hyperparameter Tuning"
      ],
      "metadata": {
        "id": "-jK_YjpMpsJ2"
      }
    },
    {
      "cell_type": "code",
      "source": [
        "# ML Model - 1 Implementation with hyperparameter optimization techniques (i.e., GridSearch CV, RandomSearch CV, Bayesian Optimization etc.)\n",
        "\n",
        "# Fit the Algorithm\n",
        "\n",
        "# Predict on the model"
      ],
      "metadata": {
        "id": "Dn0EOfS6psJ2"
      },
      "execution_count": null,
      "outputs": []
    },
    {
      "cell_type": "markdown",
      "source": [
        "##### Which hyperparameter optimization technique have you used and why?"
      ],
      "metadata": {
        "id": "HAih1iBOpsJ2"
      }
    },
    {
      "cell_type": "markdown",
      "source": [
        "Answer Here."
      ],
      "metadata": {
        "id": "9kBgjYcdpsJ2"
      }
    },
    {
      "cell_type": "markdown",
      "source": [
        "##### Have you seen any improvement? Note down the improvement with updates Evaluation metric Score Chart."
      ],
      "metadata": {
        "id": "zVGeBEFhpsJ2"
      }
    },
    {
      "cell_type": "markdown",
      "source": [
        "Answer Here."
      ],
      "metadata": {
        "id": "74yRdG6UpsJ3"
      }
    },
    {
      "cell_type": "markdown",
      "source": [
        "#### 3. Explain each evaluation metric's indication towards business and the business impact pf the ML model used."
      ],
      "metadata": {
        "id": "bmKjuQ-FpsJ3"
      }
    },
    {
      "cell_type": "markdown",
      "source": [
        "Answer Here."
      ],
      "metadata": {
        "id": "BDKtOrBQpsJ3"
      }
    },
    {
      "cell_type": "markdown",
      "source": [
        "### ML Model - 3"
      ],
      "metadata": {
        "id": "Fze-IPXLpx6K"
      }
    },
    {
      "cell_type": "code",
      "source": [
        "# ML Model - 3 Implementation\n",
        "\n",
        "# Fit the Algorithm\n",
        "\n",
        "# Predict on the model"
      ],
      "metadata": {
        "id": "FFrSXAtrpx6M"
      },
      "execution_count": null,
      "outputs": []
    },
    {
      "cell_type": "markdown",
      "source": [
        "#### 1. Explain the ML Model used and it's performance using Evaluation metric Score Chart."
      ],
      "metadata": {
        "id": "7AN1z2sKpx6M"
      }
    },
    {
      "cell_type": "code",
      "source": [
        "# Visualizing evaluation Metric Score chart"
      ],
      "metadata": {
        "id": "xIY4lxxGpx6M"
      },
      "execution_count": null,
      "outputs": []
    },
    {
      "cell_type": "markdown",
      "source": [
        "#### 2. Cross- Validation & Hyperparameter Tuning"
      ],
      "metadata": {
        "id": "9PIHJqyupx6M"
      }
    },
    {
      "cell_type": "code",
      "source": [
        "# ML Model - 3 Implementation with hyperparameter optimization techniques (i.e., GridSearch CV, RandomSearch CV, Bayesian Optimization etc.)\n",
        "\n",
        "# Fit the Algorithm\n",
        "\n",
        "# Predict on the model"
      ],
      "metadata": {
        "id": "eSVXuaSKpx6M"
      },
      "execution_count": null,
      "outputs": []
    },
    {
      "cell_type": "markdown",
      "source": [
        "##### Which hyperparameter optimization technique have you used and why?"
      ],
      "metadata": {
        "id": "_-qAgymDpx6N"
      }
    },
    {
      "cell_type": "markdown",
      "source": [
        "Answer Here."
      ],
      "metadata": {
        "id": "lQMffxkwpx6N"
      }
    },
    {
      "cell_type": "markdown",
      "source": [
        "##### Have you seen any improvement? Note down the improvement with updates Evaluation metric Score Chart."
      ],
      "metadata": {
        "id": "Z-hykwinpx6N"
      }
    },
    {
      "cell_type": "markdown",
      "source": [
        "Answer Here."
      ],
      "metadata": {
        "id": "MzVzZC6opx6N"
      }
    },
    {
      "cell_type": "markdown",
      "source": [
        "### 1. Which Evaluation metrics did you consider for a positive business impact and why?"
      ],
      "metadata": {
        "id": "h_CCil-SKHpo"
      }
    },
    {
      "cell_type": "markdown",
      "source": [
        "Answer Here."
      ],
      "metadata": {
        "id": "jHVz9hHDKFms"
      }
    },
    {
      "cell_type": "markdown",
      "source": [
        "### 2. Which ML model did you choose from the above created models as your final prediction model and why?"
      ],
      "metadata": {
        "id": "cBFFvTBNJzUa"
      }
    },
    {
      "cell_type": "markdown",
      "source": [
        "Answer Here."
      ],
      "metadata": {
        "id": "6ksF5Q1LKTVm"
      }
    },
    {
      "cell_type": "markdown",
      "source": [
        "### 3. Explain the model which you have used and the feature importance using any model explainability tool?"
      ],
      "metadata": {
        "id": "HvGl1hHyA_VK"
      }
    },
    {
      "cell_type": "markdown",
      "source": [
        "Answer Here."
      ],
      "metadata": {
        "id": "YnvVTiIxBL-C"
      }
    },
    {
      "cell_type": "markdown",
      "source": [
        "### 2. Again Load the saved model file and try to predict unseen data for a sanity check.\n"
      ],
      "metadata": {
        "id": "iW_Lq9qf2h6X"
      }
    },
    {
      "cell_type": "code",
      "source": [
        "# Load the File and predict unseen data."
      ],
      "metadata": {
        "id": "oEXk9ydD2nVC"
      },
      "execution_count": null,
      "outputs": []
    },
    {
      "cell_type": "markdown",
      "source": [
        "### ***Congrats! Your model is successfully created and ready for deployment on a live server for a real user interaction !!!***"
      ],
      "metadata": {
        "id": "-Kee-DAl2viO"
      }
    },
    {
      "cell_type": "markdown",
      "source": [
        "I didn't apply resampling because this was a primarily EDA-focused project. But for future ML models, techniques like SMOTE or class weighting can be applied."
      ],
      "metadata": {
        "id": "qbet1HwdGDTz"
      }
    },
    {
      "cell_type": "markdown",
      "source": [
        "## ***8.*** ***Future Work (Optional)***"
      ],
      "metadata": {
        "id": "EyNgTHvd2WFk"
      }
    },
    {
      "cell_type": "markdown",
      "source": [
        "### 1. Save the best performing ml model in a pickle file or joblib file format for deployment process.\n"
      ],
      "metadata": {
        "id": "KH5McJBi2d8v"
      }
    },
    {
      "cell_type": "code",
      "source": [
        "# Save the File"
      ],
      "metadata": {
        "id": "bQIANRl32f4J"
      },
      "execution_count": 18,
      "outputs": []
    },
    {
      "cell_type": "markdown",
      "source": [
        "# **Conclusion**"
      ],
      "metadata": {
        "id": "gCX9965dhzqZ"
      }
    },
    {
      "cell_type": "markdown",
      "source": [
        "# ✅ Conclusion\n",
        "\n",
        "In this project, we performed a comprehensive analysis of Flipkart’s customer support data to understand the key factors influencing Customer Satisfaction (CSAT) scores. The goal was to extract actionable insights that could help improve customer service operations and decision-making.\n",
        "\n",
        "## Key Accomplishments\n",
        "\n",
        "- **Data Cleaning and Preprocessing:**\n",
        "  - Handled missing values by dropping incomplete rows for critical variables such as CSAT Score, response time, and handling time.\n",
        "  - Outliers in connected handling time and response time were removed to normalize the data.\n",
        "  - Log transformation was applied to skewed numerical features to stabilize variance.\n",
        "  - Categorical encoding and feature scaling were used to prepare the dataset for further analysis.\n",
        "\n",
        "- **Exploratory Data Analysis (EDA):**\n",
        "  - A strong inverse relationship was observed between **response time** and CSAT score; faster responses tend to yield higher customer satisfaction.\n",
        "  - **Email channels** performed worse in terms of CSAT compared to outbound and inbound calls.\n",
        "  - **Agent performance** was highly variable: top-performing agents had consistent high CSAT scores, while bottom agents significantly underperformed.\n",
        "  - **Manager and supervisor analysis** revealed performance variation between teams. In particular, some supervisors (like Oliver Nguyen) managed teams with highly inconsistent CSAT outcomes, indicating possible supervision or team training issues.\n",
        "  - Analysis of **agent tenure** showed that agents with 61–90 days of experience had better CSAT distributions, while very experienced agents (>90 days) and agents in training had more 1-star ratings. This counterintuitive result suggests that tenure alone is not a guarantee of quality.\n",
        "  - **Agent shift analysis** revealed that the Morning and Evening shifts received the highest number of interactions but also accounted for a greater proportion of 1-star scores. This suggests certain shifts may face higher workloads or more difficult interactions.\n",
        "  - **Handling time** did not have a straightforward relationship with CSAT. While longer handling time did not guarantee higher CSAT, extremely short handling times were often associated with 1-star ratings, especially among trainees and experienced agents, possibly indicating rushed or incomplete service.\n",
        "\n",
        "- **Statistical Testing:**\n",
        "  - Hypothesis testing using One-Way ANOVA confirmed that both response time and tenure bucket had statistically significant effects on CSAT score.\n",
        "  - These tests validated the insights from the visual EDA.\n",
        "\n",
        "## Business Insights\n",
        "\n",
        "- Prioritize reducing response times across all support channels to increase satisfaction.\n",
        "- Focus on quality assurance for **email support**, which underperforms compared to other channels.\n",
        "- Provide targeted support and coaching to underperforming agents and supervisors.\n",
        "- Reevaluate experienced agents and ensure they maintain service quality over time.\n",
        "- Investigate operational and workload-related issues across different **shifts** to prevent burnout or service inconsistency.\n",
        "- Reassess training methods and onboarding, especially for agents within the first 30 days.\n",
        "\n",
        "## Future Recommendations\n",
        "\n",
        "- Implement real-time CSAT dashboards for managers to track team performance.\n",
        "- Conduct regular training refreshers even for experienced agents.\n",
        "- Explore customer feedback text data (if available) for sentiment analysis using NLP.\n",
        "- Consider predictive modeling in the future to preemptively identify low-CSAT risk interactions (ML not implemented in this notebook).\n",
        "\n",
        "This analysis offers Flipkart valuable direction on optimizing support processes, personnel management, and strategic planning to enhance customer satisfaction.\n"
      ],
      "metadata": {
        "id": "Fjb1IsQkh3yE"
      }
    },
    {
      "cell_type": "markdown",
      "source": [
        "### ***Hurrah! You have successfully completed your Machine Learning Capstone Project !!!***"
      ],
      "metadata": {
        "id": "gIfDvo9L0UH2"
      }
    }
  ]
}